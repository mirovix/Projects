{
  "nbformat": 4,
  "nbformat_minor": 0,
  "metadata": {
    "colab": {
      "name": "HW2.ipynb",
      "provenance": [],
      "collapsed_sections": [],
      "toc_visible": true
    },
    "kernelspec": {
      "display_name": "Python 3",
      "name": "python3"
    },
    "accelerator": "GPU"
  },
  "cells": [
    {
      "cell_type": "markdown",
      "metadata": {
        "id": "QUc9frYnVBI_"
      },
      "source": [
        "#**HW 2: Optimize and train Deep Models**\n",
        "\n",
        "In this homework, we will explore how to develop a simple Deep Neural Network for a classification problem. We will explore two common libraries: TensorFlow and Keras.\n",
        "Then we will explore how to face a well known problem that is common to encounter during the training phase: the Overfitting.\n",
        "Finally, we will study how to perform a fair model selection.\n",
        "Hint: Before starting the exercise take a look at how Tensorflow and Keras are designed.  https://keras.io/"
      ]
    },
    {
      "cell_type": "markdown",
      "metadata": {
        "id": "e-Nc7mFSVEiU"
      },
      "source": [
        "##Exercise 2.1: Image Classficiation with Tensorflow and Keras\n",
        "\n",
        "In this first exercise we will develop a 3 layers Neural Network to perfrom classification.\n",
        "\n",
        "Let's start importing the libraries we will need and setting a couple of environmental variables.\n"
      ]
    },
    {
      "cell_type": "code",
      "metadata": {
        "id": "bWn9FzneVqJo"
      },
      "source": [
        "import matplotlib as mpl\n",
        "import matplotlib.pyplot as plt\n",
        "import numpy as np\n",
        "import os\n",
        "import pandas as pd\n",
        "import sklearn\n",
        "import sys\n",
        "import tensorflow as tf\n",
        "from tensorflow import keras  # tf.keras\n",
        "import time\n",
        "\n",
        "import logging\n",
        "logging.disable(logging.WARNING)\n",
        "os.environ[\"TF_CPP_MIN_LOG_LEVEL\"] = \"3\" \n",
        "\n",
        "\n",
        "\n",
        "tf.random.set_seed(42)\n",
        "# os.environ['TF_DETERMINISTIC_OPS']='1'"
      ],
      "execution_count": 1,
      "outputs": []
    },
    {
      "cell_type": "markdown",
      "metadata": {
        "id": "LT2HMYDEXcx0"
      },
      "source": [
        "### Load Data: IMDB dataset\n",
        "\n",
        "In this HW, we use the IMDB dataset that can be easily downloaded using Keras. The dataset contains 50,000 movie reviews from IMDB, labeled by sentiment (positive/negative). Reviews have been preprocessed, and each review is encoded as a sequence of word indexes. For convenience, the words are indexed by the overall frequency in the dataset, so that for example the integer \"3\" encodes the 3rd most frequent word in the data. For testing purposes, we will only consider the first 10,000  most common words.\n",
        "By default, the load_data method returns a breakdown of the dataset into training and test sets. Both these sets contain 25,000 samples. To also have a validation set, we split the test set in half.\n",
        "\n"
      ]
    },
    {
      "cell_type": "code",
      "metadata": {
        "id": "JZv86gBLXj-D",
        "colab": {
          "base_uri": "https://localhost:8080/"
        },
        "outputId": "d611fc47-f924-4bf3-e7db-15f2838fd884"
      },
      "source": [
        "num_words = 1000\n",
        "(X_train, y_train), (X_test, y_test) = keras.datasets.imdb.load_data(num_words=num_words)\n",
        "(X_valid, X_test) = X_test[:12500], X_test[12500:]\n",
        "(y_valid, y_test) = y_test[:12500], y_test[12500:]"
      ],
      "execution_count": 2,
      "outputs": [
        {
          "output_type": "stream",
          "text": [
            "Downloading data from https://storage.googleapis.com/tensorflow/tf-keras-datasets/imdb.npz\n",
            "17465344/17464789 [==============================] - 0s 0us/step\n"
          ],
          "name": "stdout"
        },
        {
          "output_type": "stream",
          "text": [
            "<string>:6: VisibleDeprecationWarning: Creating an ndarray from ragged nested sequences (which is a list-or-tuple of lists-or-tuples-or ndarrays with different lengths or shapes) is deprecated. If you meant to do this, you must specify 'dtype=object' when creating the ndarray\n",
            "/usr/local/lib/python3.7/dist-packages/tensorflow/python/keras/datasets/imdb.py:159: VisibleDeprecationWarning: Creating an ndarray from ragged nested sequences (which is a list-or-tuple of lists-or-tuples-or ndarrays with different lengths or shapes) is deprecated. If you meant to do this, you must specify 'dtype=object' when creating the ndarray\n",
            "  x_train, y_train = np.array(xs[:idx]), np.array(labels[:idx])\n",
            "/usr/local/lib/python3.7/dist-packages/tensorflow/python/keras/datasets/imdb.py:160: VisibleDeprecationWarning: Creating an ndarray from ragged nested sequences (which is a list-or-tuple of lists-or-tuples-or ndarrays with different lengths or shapes) is deprecated. If you meant to do this, you must specify 'dtype=object' when creating the ndarray\n",
            "  x_test, y_test = np.array(xs[idx:]), np.array(labels[idx:])\n"
          ],
          "name": "stderr"
        }
      ]
    },
    {
      "cell_type": "markdown",
      "metadata": {
        "id": "TEZHVHpuPdQF"
      },
      "source": [
        "In this HW we will consider a Deep Neural Network. The IMDB data consists in reviews, each one composed by a seqeunce of words. In order to encode each review in a single tensor with a fixed number of elements, we will use multi-hot encoding. Multi-hot-encoding our lists means turning them into vectors of 0s and 1s. Concretely, this would mean for instance turning the sequence [3, 5] into a 10,000-dimensional vector that would be all-zeros except for indices 3 and 5, which would be ones. The obtained input representation indicates which words are present (at least one time) in the sentence.\n",
        "\n",
        " "
      ]
    },
    {
      "cell_type": "code",
      "metadata": {
        "id": "hxE9DhiFPP0T"
      },
      "source": [
        "def multi_hot_encoder(dataset, num_word):\n",
        "  dataset_multi_hot=[]\n",
        "  for sequence in dataset:\n",
        "    index, _ = tf.unique(sequence)\n",
        "    dataset_multi_hot.append(tf.reduce_max(tf.one_hot(index-1, num_word, dtype=tf.int32), axis=0))\n",
        "  dataset_multi_hot = tf.stack(dataset_multi_hot)\n",
        "  return dataset_multi_hot\n",
        "\n",
        "X_train = multi_hot_encoder(X_train,num_words)\n",
        "X_test = multi_hot_encoder(X_test,num_words)\n",
        "X_valid = multi_hot_encoder(X_valid,num_words)"
      ],
      "execution_count": 3,
      "outputs": []
    },
    {
      "cell_type": "markdown",
      "metadata": {
        "id": "jGUg8TexZMNf"
      },
      "source": [
        "### Define the model:\n",
        "\n",
        "Let's build a Sequential model (keras.models.Sequential) and add four layers to it by calling its add() method:\n",
        "\n",
        "\n",
        "*   a input layer (tf.keras.Input) that is the first layer in your model. With this layer you should specify the input_shape argument, leaving out the batch size: (num_words,);\n",
        "*  a Dense layer (keras.layers.Dense) with 16 neurons, and the \"relu\" activation function;\n",
        "* another Dense layer with 16 neurons, also with the \"relu\" activation function;\n",
        "* a final Dense layer with 1 output neurons, and with the \"sigmoid\" activation (since we considering a binary classification task)."
      ]
    },
    {
      "cell_type": "code",
      "metadata": {
        "id": "OaoEISyaZL56"
      },
      "source": [
        "model = keras.models.Sequential()\n",
        "model.add(tf.keras.Input(shape=(num_words,)))\n",
        "model.add(keras.layers.Dense(16, activation=\"relu\"))\n",
        "model.add(keras.layers.Dense(16, activation=\"relu\"))\n",
        "model.add(keras.layers.Dense(1, activation=\"sigmoid\"))\n",
        "\n"
      ],
      "execution_count": 4,
      "outputs": []
    },
    {
      "cell_type": "markdown",
      "metadata": {
        "id": "fYfxUOQVZljh"
      },
      "source": [
        "Call the model's summary() method to check if the model has been built correctly. Also, try using keras.utils.plot_model() to save an image of your model's architecture."
      ]
    },
    {
      "cell_type": "code",
      "metadata": {
        "id": "IpGkQl5dZoWq",
        "colab": {
          "base_uri": "https://localhost:8080/"
        },
        "outputId": "54128a4f-e829-4b1b-dc02-f5006779be44"
      },
      "source": [
        "model.summary()"
      ],
      "execution_count": 5,
      "outputs": [
        {
          "output_type": "stream",
          "text": [
            "Model: \"sequential\"\n",
            "_________________________________________________________________\n",
            "Layer (type)                 Output Shape              Param #   \n",
            "=================================================================\n",
            "dense (Dense)                (None, 16)                16016     \n",
            "_________________________________________________________________\n",
            "dense_1 (Dense)              (None, 16)                272       \n",
            "_________________________________________________________________\n",
            "dense_2 (Dense)              (None, 1)                 17        \n",
            "=================================================================\n",
            "Total params: 16,305\n",
            "Trainable params: 16,305\n",
            "Non-trainable params: 0\n",
            "_________________________________________________________________\n"
          ],
          "name": "stdout"
        }
      ]
    },
    {
      "cell_type": "code",
      "metadata": {
        "id": "b1NbkrXRZwOA",
        "colab": {
          "base_uri": "https://localhost:8080/",
          "height": 422
        },
        "outputId": "d6648a87-0fb9-4e6f-9646-7bcfc88dc167"
      },
      "source": [
        "keras.utils.plot_model(model, \"my_imdb_model.png\", show_shapes=True)"
      ],
      "execution_count": 6,
      "outputs": [
        {
          "output_type": "execute_result",
          "data": {
            "image/png": "[encoded data removed]",
            "text/plain": [
              "<IPython.core.display.Image object>"
            ]
          },
          "metadata": {
            "tags": []
          },
          "execution_count": 6
        }
      ]
    },
    {
      "cell_type": "markdown",
      "metadata": {
        "id": "Mc3xzuA-33WH"
      },
      "source": [
        "As you can see, the first dimension of each layer is not defined (?), indeed this dimension in each layer is variable and depends on the batch size."
      ]
    },
    {
      "cell_type": "markdown",
      "metadata": {
        "id": "6FAjFixuHSA_"
      },
      "source": [
        "Instaed of using *add()* method it is also possibile to define the model using the following syntax"
      ]
    },
    {
      "cell_type": "code",
      "metadata": {
        "id": "yOhr57M9GPHy",
        "colab": {
          "base_uri": "https://localhost:8080/",
          "height": 667
        },
        "outputId": "a758dbd4-1977-4b5f-a71c-8bcb4f6f24f9"
      },
      "source": [
        "model = keras.models.Sequential([\n",
        "    tf.keras.Input(shape=(num_words,)),\n",
        "    keras.layers.Dense(16, activation=\"relu\"),\n",
        "    keras.layers.Dense(16, activation=\"relu\"),\n",
        "    keras.layers.Dense(1, activation=\"sigmoid\")\n",
        "])\n",
        "model.summary()\n",
        "keras.utils.plot_model(model, \"my_imdb_model.png\", show_shapes=True)"
      ],
      "execution_count": 7,
      "outputs": [
        {
          "output_type": "stream",
          "text": [
            "Model: \"sequential_1\"\n",
            "_________________________________________________________________\n",
            "Layer (type)                 Output Shape              Param #   \n",
            "=================================================================\n",
            "dense_3 (Dense)              (None, 16)                16016     \n",
            "_________________________________________________________________\n",
            "dense_4 (Dense)              (None, 16)                272       \n",
            "_________________________________________________________________\n",
            "dense_5 (Dense)              (None, 1)                 17        \n",
            "=================================================================\n",
            "Total params: 16,305\n",
            "Trainable params: 16,305\n",
            "Non-trainable params: 0\n",
            "_________________________________________________________________\n"
          ],
          "name": "stdout"
        },
        {
          "output_type": "execute_result",
          "data": {
            "image/png": "[encoded data removed]",
            "text/plain": [
              "<IPython.core.display.Image object>"
            ]
          },
          "metadata": {
            "tags": []
          },
          "execution_count": 7
        }
      ]
    },
    {
      "cell_type": "markdown",
      "metadata": {
        "id": "2ySdJmzxaSuz"
      },
      "source": [
        "### Optimize the model:\n",
        "\n",
        "After the model has been created, you must call its compile() method to specify the loss function and the optimizer to use.\n",
        "\n",
        "Since the model performs a binary classification task, we use the bynary cross-entropy as loss. As optimizer we use Adam.\n",
        "\n",
        "Moreover, you can optionally specify a list of additional metrics that should be measured during training. In this case we specify metrics=[\"accuracy\"]."
      ]
    },
    {
      "cell_type": "code",
      "metadata": {
        "id": "x3bbsY3uaeh5"
      },
      "source": [
        "model.compile(loss=\"binary_crossentropy\",\n",
        "              optimizer=keras.optimizers.Adam(learning_rate=1e-4),\n",
        "              metrics=[\"accuracy\"])"
      ],
      "execution_count": 8,
      "outputs": []
    },
    {
      "cell_type": "markdown",
      "metadata": {
        "id": "NB9SV0MpaeTg"
      },
      "source": [
        "Now our model is ready to be trained. Call its fit() method, passing to it the input features (X_train) and the target classes (y_train). Set the number of epochs to 20. \n",
        "In order to validate our model we will also pass the validation data by setting validation_data=(X_valid, y_valid). Keras will compute the loss and the additional metrics (the accuracy in this case) on the validation set at the end of each epoch. If the loss on the training set is much lower than the one on the validation set, your model is probably overfitting the training set. Note: the fit() method will return a History object containing training stats."
      ]
    },
    {
      "cell_type": "code",
      "metadata": {
        "id": "5whx-LU3aoKn",
        "colab": {
          "base_uri": "https://localhost:8080/"
        },
        "outputId": "ea233026-b11c-4dc9-8de5-7bd457cb0831"
      },
      "source": [
        "history = model.fit(X_train, y_train, epochs=20,\n",
        "                    validation_data=(X_valid, y_valid))"
      ],
      "execution_count": 9,
      "outputs": [
        {
          "output_type": "stream",
          "text": [
            "Epoch 1/20\n",
            "782/782 [==============================] - 6s 4ms/step - loss: 0.6691 - accuracy: 0.5917 - val_loss: 0.5086 - val_accuracy: 0.7899\n",
            "Epoch 2/20\n",
            "782/782 [==============================] - 2s 3ms/step - loss: 0.4609 - accuracy: 0.8105 - val_loss: 0.3856 - val_accuracy: 0.8406\n",
            "Epoch 3/20\n",
            "782/782 [==============================] - 2s 3ms/step - loss: 0.3556 - accuracy: 0.8580 - val_loss: 0.3534 - val_accuracy: 0.8515\n",
            "Epoch 4/20\n",
            "782/782 [==============================] - 2s 3ms/step - loss: 0.3298 - accuracy: 0.8647 - val_loss: 0.3407 - val_accuracy: 0.8543\n",
            "Epoch 5/20\n",
            "782/782 [==============================] - 2s 3ms/step - loss: 0.3148 - accuracy: 0.8714 - val_loss: 0.3377 - val_accuracy: 0.8555\n",
            "Epoch 6/20\n",
            "782/782 [==============================] - 2s 3ms/step - loss: 0.3055 - accuracy: 0.8712 - val_loss: 0.3344 - val_accuracy: 0.8565\n",
            "Epoch 7/20\n",
            "782/782 [==============================] - 2s 3ms/step - loss: 0.2989 - accuracy: 0.8771 - val_loss: 0.3344 - val_accuracy: 0.8562\n",
            "Epoch 8/20\n",
            "782/782 [==============================] - 2s 3ms/step - loss: 0.3030 - accuracy: 0.8742 - val_loss: 0.3344 - val_accuracy: 0.8557\n",
            "Epoch 9/20\n",
            "782/782 [==============================] - 2s 3ms/step - loss: 0.2970 - accuracy: 0.8784 - val_loss: 0.3352 - val_accuracy: 0.8549\n",
            "Epoch 10/20\n",
            "782/782 [==============================] - 2s 3ms/step - loss: 0.2928 - accuracy: 0.8781 - val_loss: 0.3355 - val_accuracy: 0.8552\n",
            "Epoch 11/20\n",
            "782/782 [==============================] - 2s 3ms/step - loss: 0.2966 - accuracy: 0.8797 - val_loss: 0.3366 - val_accuracy: 0.8539\n",
            "Epoch 12/20\n",
            "782/782 [==============================] - 2s 3ms/step - loss: 0.2865 - accuracy: 0.8849 - val_loss: 0.3373 - val_accuracy: 0.8549\n",
            "Epoch 13/20\n",
            "782/782 [==============================] - 2s 3ms/step - loss: 0.2954 - accuracy: 0.8803 - val_loss: 0.3393 - val_accuracy: 0.8543\n",
            "Epoch 14/20\n",
            "782/782 [==============================] - 2s 3ms/step - loss: 0.2856 - accuracy: 0.8837 - val_loss: 0.3387 - val_accuracy: 0.8536\n",
            "Epoch 15/20\n",
            "782/782 [==============================] - 2s 3ms/step - loss: 0.2884 - accuracy: 0.8822 - val_loss: 0.3398 - val_accuracy: 0.8538\n",
            "Epoch 16/20\n",
            "782/782 [==============================] - 2s 3ms/step - loss: 0.2878 - accuracy: 0.8806 - val_loss: 0.3405 - val_accuracy: 0.8534\n",
            "Epoch 17/20\n",
            "782/782 [==============================] - 2s 3ms/step - loss: 0.2871 - accuracy: 0.8821 - val_loss: 0.3418 - val_accuracy: 0.8546\n",
            "Epoch 18/20\n",
            "782/782 [==============================] - 2s 3ms/step - loss: 0.2822 - accuracy: 0.8861 - val_loss: 0.3427 - val_accuracy: 0.8542\n",
            "Epoch 19/20\n",
            "782/782 [==============================] - 2s 3ms/step - loss: 0.2847 - accuracy: 0.8863 - val_loss: 0.3433 - val_accuracy: 0.8526\n",
            "Epoch 20/20\n",
            "782/782 [==============================] - 2s 3ms/step - loss: 0.2792 - accuracy: 0.8863 - val_loss: 0.3445 - val_accuracy: 0.8531\n"
          ],
          "name": "stdout"
        }
      ]
    },
    {
      "cell_type": "markdown",
      "metadata": {
        "id": "EPxiw8iCADr-"
      },
      "source": [
        "Let's plot the loss and the accuracy trends on both training and validation sets. We define the \"plot_learning_acc_and_loss\" function because we will reuse it in the next steps."
      ]
    },
    {
      "cell_type": "code",
      "metadata": {
        "id": "AJg-F7mUa7st",
        "colab": {
          "base_uri": "https://localhost:8080/",
          "height": 320
        },
        "outputId": "8607c76c-c620-4b60-8374-fb29a8f42ec2"
      },
      "source": [
        "def plot_learning_acc_and_loss(history):\n",
        "    pd.DataFrame(history.history).plot(figsize=(8, 5))\n",
        "    plt.grid(True)\n",
        "    plt.show()\n",
        "plot_learning_acc_and_loss(history)"
      ],
      "execution_count": 10,
      "outputs": [
        {
          "output_type": "display_data",
          "data": {
            "image/png": "[encoded data removed]",
            "text/plain": [
              "<Figure size 576x360 with 1 Axes>"
            ]
          },
          "metadata": {
            "tags": [],
            "needs_background": "light"
          }
        }
      ]
    },
    {
      "cell_type": "markdown",
      "metadata": {
        "id": "9O3-sLmxansJ"
      },
      "source": [
        "### [TO COMPLETE] Evaluate the model:\n",
        "\n",
        "Now, our model has been optimized on the training set, and as you can see the performance on the validation set in quite similar (so it does not overfit the training data). Let's now evaluate the performance of our model using the test set. "
      ]
    },
    {
      "cell_type": "code",
      "metadata": {
        "id": "q-ZvJEcObdyB",
        "colab": {
          "base_uri": "https://localhost:8080/"
        },
        "outputId": "e0cdc17f-c6a8-4c76-970f-ffe81c5fd92c"
      },
      "source": [
        "model.evaluate(X_test, y_test)"
      ],
      "execution_count": 11,
      "outputs": [
        {
          "output_type": "stream",
          "text": [
            "391/391 [==============================] - 1s 2ms/step - loss: 0.3227 - accuracy: 0.8662\n"
          ],
          "name": "stdout"
        },
        {
          "output_type": "execute_result",
          "data": {
            "text/plain": [
              "[0.32265692949295044, 0.8662400245666504]"
            ]
          },
          "metadata": {
            "tags": []
          },
          "execution_count": 11
        }
      ]
    },
    {
      "cell_type": "markdown",
      "metadata": {
        "id": "KTSxlnwrII-n"
      },
      "source": [
        "[TO COMPLETE] Explain why it is important to use test and validation, and why it is important to evaluate the model on the test set instead of the validation set. Finally, explain which is the usefulness of the validation set. Insert the discussion in this cell.\n",
        "\n",
        "A validation is a set of samples used to determine the evaluation of models, and it permits to select the best hyperparameters for a neural network model, such as the number of neurons inside each hidden levels. The usefulness of validation set is to avoid the problem of overfitting which otherwise makes learning fail, there are some techniques used to solve this problem (for example early stopping). A test set is a dataset that is independent by training set and validation set, and it is implemented to check whether the model can generalize well. It is significant to notice that validation set is used for tuning the parameters and test set is used for performance evaluation."
      ]
    },
    {
      "cell_type": "markdown",
      "metadata": {
        "id": "aeGlzKe864Gq"
      },
      "source": [
        "## [TO COMPLETE] Exercise 2.2: Overfiting\n",
        "\n",
        "A common problem that occurs when you train a deep neural network is overfittig. Overfitting occurs when you achieve a good fit of your model on the training data, while it does not generalize well on new, unseen data. In other words, the model learned patterns specific to the training data, which are irrelevant in other data.\n",
        "As we have seen in the previous exercise, our model does not overfit the training data. In this exercise, we try to modify the training parameters in order to have a model that overfits.\n",
        "Overfitting can have many causes and usually is a combination of some of them, for instance: too many parameters/ layers, too few training samples, wrong learning rate (usualy too high), etc..\n",
        "\n",
        "[TO COMPLETE] In the next cell define a new model (similar to the previuos one) that overfits the training data; then plot the trend of the loss in training and validation set."
      ]
    },
    {
      "cell_type": "code",
      "metadata": {
        "id": "T2B2DFEC8f88",
        "colab": {
          "base_uri": "https://localhost:8080/"
        },
        "outputId": "069662ff-3af8-410e-f594-2f363cbf21c8"
      },
      "source": [
        "model = keras.models.Sequential()\n",
        "#[TO COMPLETE] modify the previuos model in order to obtain a new mdel that overfit the training data\n",
        "\n",
        "model.add(tf.keras.Input(shape=(num_words,)))\n",
        "model.add(keras.layers.Dense(16, activation=\"relu\"))\n",
        "model.add(keras.layers.Dense(32, activation=\"relu\"))\n",
        "model.add(keras.layers.Dense(1, activation=\"sigmoid\"))\n",
        "\n",
        "model.compile(loss=\"binary_crossentropy\",\n",
        "              optimizer=keras.optimizers.Adam(learning_rate=0.00025),#[TO COMPLETE] learning rate\n",
        "              metrics=[\"accuracy\"])\n",
        "\n",
        "history = model.fit(X_train, y_train, epochs=30,#[TO COMPLETE] epochs\n",
        "                    validation_data=(X_valid, y_valid))\n",
        "\n",
        "print(\"Model Evaluation\")\n",
        "model.evaluate(X_test, y_test)"
      ],
      "execution_count": 12,
      "outputs": [
        {
          "output_type": "stream",
          "text": [
            "Epoch 1/30\n",
            "782/782 [==============================] - 3s 3ms/step - loss: 0.5906 - accuracy: 0.6742 - val_loss: 0.3617 - val_accuracy: 0.8442\n",
            "Epoch 2/30\n",
            "782/782 [==============================] - 2s 3ms/step - loss: 0.3402 - accuracy: 0.8550 - val_loss: 0.3413 - val_accuracy: 0.8524\n",
            "Epoch 3/30\n",
            "782/782 [==============================] - 2s 3ms/step - loss: 0.3056 - accuracy: 0.8737 - val_loss: 0.3415 - val_accuracy: 0.8518\n",
            "Epoch 4/30\n",
            "782/782 [==============================] - 2s 3ms/step - loss: 0.3024 - accuracy: 0.8744 - val_loss: 0.3495 - val_accuracy: 0.8500\n",
            "Epoch 5/30\n",
            "782/782 [==============================] - 2s 3ms/step - loss: 0.2951 - accuracy: 0.8803 - val_loss: 0.3403 - val_accuracy: 0.8527\n",
            "Epoch 6/30\n",
            "782/782 [==============================] - 2s 3ms/step - loss: 0.2857 - accuracy: 0.8822 - val_loss: 0.3381 - val_accuracy: 0.8542\n",
            "Epoch 7/30\n",
            "782/782 [==============================] - 2s 3ms/step - loss: 0.2760 - accuracy: 0.8871 - val_loss: 0.3454 - val_accuracy: 0.8524\n",
            "Epoch 8/30\n",
            "782/782 [==============================] - 2s 3ms/step - loss: 0.2716 - accuracy: 0.8893 - val_loss: 0.3414 - val_accuracy: 0.8522\n",
            "Epoch 9/30\n",
            "782/782 [==============================] - 2s 3ms/step - loss: 0.2590 - accuracy: 0.8944 - val_loss: 0.3463 - val_accuracy: 0.8522\n",
            "Epoch 10/30\n",
            "782/782 [==============================] - 2s 3ms/step - loss: 0.2456 - accuracy: 0.9015 - val_loss: 0.3486 - val_accuracy: 0.8515\n",
            "Epoch 11/30\n",
            "782/782 [==============================] - 2s 3ms/step - loss: 0.2407 - accuracy: 0.9034 - val_loss: 0.3576 - val_accuracy: 0.8494\n",
            "Epoch 12/30\n",
            "782/782 [==============================] - 2s 3ms/step - loss: 0.2240 - accuracy: 0.9110 - val_loss: 0.3669 - val_accuracy: 0.8455\n",
            "Epoch 13/30\n",
            "782/782 [==============================] - 2s 3ms/step - loss: 0.2235 - accuracy: 0.9121 - val_loss: 0.3722 - val_accuracy: 0.8466\n",
            "Epoch 14/30\n",
            "782/782 [==============================] - 2s 3ms/step - loss: 0.2070 - accuracy: 0.9186 - val_loss: 0.3785 - val_accuracy: 0.8442\n",
            "Epoch 15/30\n",
            "782/782 [==============================] - 2s 3ms/step - loss: 0.2016 - accuracy: 0.9220 - val_loss: 0.3877 - val_accuracy: 0.8450\n",
            "Epoch 16/30\n",
            "782/782 [==============================] - 2s 3ms/step - loss: 0.1929 - accuracy: 0.9237 - val_loss: 0.4045 - val_accuracy: 0.8414\n",
            "Epoch 17/30\n",
            "782/782 [==============================] - 2s 3ms/step - loss: 0.1816 - accuracy: 0.9304 - val_loss: 0.4159 - val_accuracy: 0.8392\n",
            "Epoch 18/30\n",
            "782/782 [==============================] - 2s 3ms/step - loss: 0.1739 - accuracy: 0.9346 - val_loss: 0.4330 - val_accuracy: 0.8356\n",
            "Epoch 19/30\n",
            "782/782 [==============================] - 2s 3ms/step - loss: 0.1706 - accuracy: 0.9363 - val_loss: 0.4402 - val_accuracy: 0.8361\n",
            "Epoch 20/30\n",
            "782/782 [==============================] - 2s 3ms/step - loss: 0.1548 - accuracy: 0.9426 - val_loss: 0.4552 - val_accuracy: 0.8328\n",
            "Epoch 21/30\n",
            "782/782 [==============================] - 2s 3ms/step - loss: 0.1544 - accuracy: 0.9447 - val_loss: 0.4781 - val_accuracy: 0.8338\n",
            "Epoch 22/30\n",
            "782/782 [==============================] - 2s 3ms/step - loss: 0.1417 - accuracy: 0.9488 - val_loss: 0.4922 - val_accuracy: 0.8330\n",
            "Epoch 23/30\n",
            "782/782 [==============================] - 2s 3ms/step - loss: 0.1269 - accuracy: 0.9554 - val_loss: 0.5166 - val_accuracy: 0.8310\n",
            "Epoch 24/30\n",
            "782/782 [==============================] - 2s 3ms/step - loss: 0.1230 - accuracy: 0.9567 - val_loss: 0.5288 - val_accuracy: 0.8259\n",
            "Epoch 25/30\n",
            "782/782 [==============================] - 2s 3ms/step - loss: 0.1168 - accuracy: 0.9596 - val_loss: 0.5607 - val_accuracy: 0.8274\n",
            "Epoch 26/30\n",
            "782/782 [==============================] - 2s 3ms/step - loss: 0.1118 - accuracy: 0.9618 - val_loss: 0.5891 - val_accuracy: 0.8251\n",
            "Epoch 27/30\n",
            "782/782 [==============================] - 2s 3ms/step - loss: 0.1031 - accuracy: 0.9659 - val_loss: 0.6168 - val_accuracy: 0.8252\n",
            "Epoch 28/30\n",
            "782/782 [==============================] - 2s 3ms/step - loss: 0.0953 - accuracy: 0.9675 - val_loss: 0.6226 - val_accuracy: 0.8237\n",
            "Epoch 29/30\n",
            "782/782 [==============================] - 2s 3ms/step - loss: 0.0867 - accuracy: 0.9724 - val_loss: 0.6720 - val_accuracy: 0.8228\n",
            "Epoch 30/30\n",
            "782/782 [==============================] - 2s 3ms/step - loss: 0.0833 - accuracy: 0.9744 - val_loss: 0.6924 - val_accuracy: 0.8197\n",
            "Model Evaluation\n",
            "391/391 [==============================] - 1s 2ms/step - loss: 0.6773 - accuracy: 0.8310\n"
          ],
          "name": "stdout"
        },
        {
          "output_type": "execute_result",
          "data": {
            "text/plain": [
              "[0.6772866249084473, 0.8309599757194519]"
            ]
          },
          "metadata": {
            "tags": []
          },
          "execution_count": 12
        }
      ]
    },
    {
      "cell_type": "markdown",
      "metadata": {
        "id": "MS0fujEqh_m3"
      },
      "source": [
        "Define the plot_learning_curves function that plots inly the losses (not the accuracy)."
      ]
    },
    {
      "cell_type": "code",
      "metadata": {
        "id": "q5EsklC0DZYH",
        "colab": {
          "base_uri": "https://localhost:8080/",
          "height": 336
        },
        "outputId": "4ab8957c-9320-4b18-9ebf-8865893beaa0"
      },
      "source": [
        "def plot_learning_curves(history):\n",
        "    plt.figure(figsize=(8, 5))\n",
        "    plt.plot(history.epoch,history.history['loss'], label='train loss')\n",
        "    plt.plot(history.epoch,history.history['val_loss'], label='valid loss')\n",
        "    plt.legend()\n",
        "    plt.title('loss')\n",
        "    plt.grid(True)\n",
        "    plt.show()\n",
        "plot_learning_curves(history)"
      ],
      "execution_count": 13,
      "outputs": [
        {
          "output_type": "display_data",
          "data": {
            "image/png": "[encoded data removed]",
            "text/plain": [
              "<Figure size 576x360 with 1 Axes>"
            ]
          },
          "metadata": {
            "tags": [],
            "needs_background": "light"
          }
        }
      ]
    },
    {
      "cell_type": "markdown",
      "metadata": {
        "id": "OW4Kf4fgDfOs"
      },
      "source": [
        "### [TO COMPLETE] L1 norm\n",
        "\n",
        "One possible way to solve the overitting issue is by using regularization methods. The two most common regularization methods in Deep Learning are the L1-norm regularization and the L2-norm regularization. Both These techniques are based on limiting the capacity of models, by adding a parameter norm penalty to the objective function $\\mathcal{J}$:\n",
        "$$\n",
        "\\hat{\\mathcal{J}}(\\theta,\\mathbf{X},\\mathbf{y}) = \\mathcal{J}(\\theta,\\mathbf{X},\\mathbf{y}) + \\alpha \\Omega(\\theta)\n",
        "$$\n",
        "where $\\alpha$ is a hyperparameter that weighs the relative contribution of the norm penalty $\\Omega$.\n",
        "Lets start by considering the L1-norm regularization where the regularization term is defined as:\n",
        "$$\n",
        " \\Omega(\\theta)=||\\mathbf{W}||_1=\\sum_i |\\mathbf{w}|\n",
        "$$\n",
        "Let's find the values for the $\\alpha$ parameters that allow to remove the overfitting effect."
      ]
    },
    {
      "cell_type": "code",
      "metadata": {
        "id": "QzD8520dDgw3",
        "colab": {
          "base_uri": "https://localhost:8080/",
          "height": 1000
        },
        "outputId": "bb916228-cd93-4aff-f466-4202986282f5"
      },
      "source": [
        "#In Keras is neccesary to add the regularizer by using the attribute kernel_regularizer\n",
        "#to each layer whose weights will be considered in the Omega function.\n",
        "#is it also possibile to consider the bias by using the attribute bias_regularizer \n",
        "#tf.keras.regularizers.l1(alpha) perfroms the L1-norm regularization\n",
        "\n",
        "#[TO COMPLETE] copy the model that you previously defined that overfits the \n",
        "#trainnig data, and add the L1-norm regularization. Use a proper value for the\n",
        "#alpha hyper-parameter, that prevents the model from overfitting. The results  \n",
        "#reached by the model in terms of loss and accuracy (in all data sets) should be\n",
        "#comparable with the ones obtained by the initial model defined in Exercise 2.1 \n",
        "\n",
        "#In general, a layer that exploits L1-norm regularization is defined as follows:\n",
        "\n",
        "#model.add(keras.layers.Dense(units=[TO COMPLETE], activation=[TO COMPLETE], kernel_regularizer=tf.keras.regularizers.l1([TO COMPLETE]))) \n",
        "\n",
        "model = keras.models.Sequential()\n",
        "#[TO COMPLETE]\n",
        "\n",
        "alpha = 1e-3\n",
        "model.add(tf.keras.Input(shape=(num_words,)))\n",
        "model.add(keras.layers.Dense(16, activation=\"relu\",kernel_regularizer=tf.keras.regularizers.l1(alpha)))\n",
        "model.add(keras.layers.Dense(32, activation=\"relu\",kernel_regularizer=tf.keras.regularizers.l1(alpha))) \n",
        "model.add(keras.layers.Dense(1, activation=\"sigmoid\",kernel_regularizer=tf.keras.regularizers.l1(alpha))) \n",
        "\n",
        "model.compile(loss=\"binary_crossentropy\",\n",
        "              optimizer=keras.optimizers.Adam(learning_rate=0.00025),#[TO COMPLETE] learning rate\n",
        "              metrics=[\"accuracy\"])\n",
        "\n",
        "history = model.fit(X_train, y_train, epochs=30,#[TO COMPLETE] epochs\n",
        "                    validation_data=(X_valid, y_valid))\n",
        "\n",
        "print(\"Model Evaluation\")\n",
        "model.evaluate(X_test, y_test)\n",
        "plot_learning_curves(history)"
      ],
      "execution_count": 14,
      "outputs": [
        {
          "output_type": "stream",
          "text": [
            "Epoch 1/30\n",
            "782/782 [==============================] - 3s 3ms/step - loss: 1.0763 - accuracy: 0.6871 - val_loss: 0.5974 - val_accuracy: 0.8428\n",
            "Epoch 2/30\n",
            "782/782 [==============================] - 3s 3ms/step - loss: 0.5631 - accuracy: 0.8530 - val_loss: 0.5240 - val_accuracy: 0.8508\n",
            "Epoch 3/30\n",
            "782/782 [==============================] - 2s 3ms/step - loss: 0.4954 - accuracy: 0.8656 - val_loss: 0.5061 - val_accuracy: 0.8482\n",
            "Epoch 4/30\n",
            "782/782 [==============================] - 2s 3ms/step - loss: 0.4791 - accuracy: 0.8637 - val_loss: 0.4980 - val_accuracy: 0.8469\n",
            "Epoch 5/30\n",
            "782/782 [==============================] - 2s 3ms/step - loss: 0.4654 - accuracy: 0.8659 - val_loss: 0.4770 - val_accuracy: 0.8513\n",
            "Epoch 6/30\n",
            "782/782 [==============================] - 2s 3ms/step - loss: 0.4533 - accuracy: 0.8668 - val_loss: 0.4662 - val_accuracy: 0.8532\n",
            "Epoch 7/30\n",
            "782/782 [==============================] - 3s 3ms/step - loss: 0.4436 - accuracy: 0.8678 - val_loss: 0.4670 - val_accuracy: 0.8500\n",
            "Epoch 8/30\n",
            "782/782 [==============================] - 2s 3ms/step - loss: 0.4448 - accuracy: 0.8645 - val_loss: 0.4546 - val_accuracy: 0.8544\n",
            "Epoch 9/30\n",
            "782/782 [==============================] - 2s 3ms/step - loss: 0.4335 - accuracy: 0.8690 - val_loss: 0.4508 - val_accuracy: 0.8542\n",
            "Epoch 10/30\n",
            "782/782 [==============================] - 2s 3ms/step - loss: 0.4287 - accuracy: 0.8670 - val_loss: 0.4501 - val_accuracy: 0.8538\n",
            "Epoch 11/30\n",
            "782/782 [==============================] - 3s 3ms/step - loss: 0.4279 - accuracy: 0.8679 - val_loss: 0.4431 - val_accuracy: 0.8559\n",
            "Epoch 12/30\n",
            "782/782 [==============================] - 2s 3ms/step - loss: 0.4151 - accuracy: 0.8724 - val_loss: 0.4438 - val_accuracy: 0.8522\n",
            "Epoch 13/30\n",
            "782/782 [==============================] - 3s 3ms/step - loss: 0.4204 - accuracy: 0.8705 - val_loss: 0.4362 - val_accuracy: 0.8559\n",
            "Epoch 14/30\n",
            "782/782 [==============================] - 2s 3ms/step - loss: 0.4092 - accuracy: 0.8723 - val_loss: 0.4342 - val_accuracy: 0.8546\n",
            "Epoch 15/30\n",
            "782/782 [==============================] - 2s 3ms/step - loss: 0.4102 - accuracy: 0.8690 - val_loss: 0.4292 - val_accuracy: 0.8547\n",
            "Epoch 16/30\n",
            "782/782 [==============================] - 2s 3ms/step - loss: 0.4049 - accuracy: 0.8690 - val_loss: 0.4274 - val_accuracy: 0.8542\n",
            "Epoch 17/30\n",
            "782/782 [==============================] - 2s 3ms/step - loss: 0.4031 - accuracy: 0.8684 - val_loss: 0.4252 - val_accuracy: 0.8546\n",
            "Epoch 18/30\n",
            "782/782 [==============================] - 2s 3ms/step - loss: 0.3983 - accuracy: 0.8710 - val_loss: 0.4214 - val_accuracy: 0.8547\n",
            "Epoch 19/30\n",
            "782/782 [==============================] - 2s 3ms/step - loss: 0.3974 - accuracy: 0.8733 - val_loss: 0.4169 - val_accuracy: 0.8573\n",
            "Epoch 20/30\n",
            "782/782 [==============================] - 2s 3ms/step - loss: 0.3896 - accuracy: 0.8755 - val_loss: 0.4155 - val_accuracy: 0.8562\n",
            "Epoch 21/30\n",
            "782/782 [==============================] - 3s 3ms/step - loss: 0.3889 - accuracy: 0.8739 - val_loss: 0.4136 - val_accuracy: 0.8558\n",
            "Epoch 22/30\n",
            "782/782 [==============================] - 2s 3ms/step - loss: 0.3871 - accuracy: 0.8710 - val_loss: 0.4112 - val_accuracy: 0.8564\n",
            "Epoch 23/30\n",
            "782/782 [==============================] - 2s 3ms/step - loss: 0.3781 - accuracy: 0.8756 - val_loss: 0.4117 - val_accuracy: 0.8545\n",
            "Epoch 24/30\n",
            "782/782 [==============================] - 2s 3ms/step - loss: 0.3762 - accuracy: 0.8729 - val_loss: 0.4093 - val_accuracy: 0.8537\n",
            "Epoch 25/30\n",
            "782/782 [==============================] - 3s 3ms/step - loss: 0.3729 - accuracy: 0.8755 - val_loss: 0.4069 - val_accuracy: 0.8535\n",
            "Epoch 26/30\n",
            "782/782 [==============================] - 3s 3ms/step - loss: 0.3757 - accuracy: 0.8754 - val_loss: 0.4128 - val_accuracy: 0.8510\n",
            "Epoch 27/30\n",
            "782/782 [==============================] - 3s 3ms/step - loss: 0.3728 - accuracy: 0.8715 - val_loss: 0.4033 - val_accuracy: 0.8544\n",
            "Epoch 28/30\n",
            "782/782 [==============================] - 3s 3ms/step - loss: 0.3646 - accuracy: 0.8765 - val_loss: 0.4034 - val_accuracy: 0.8535\n",
            "Epoch 29/30\n",
            "782/782 [==============================] - 3s 3ms/step - loss: 0.3643 - accuracy: 0.8748 - val_loss: 0.4009 - val_accuracy: 0.8547\n",
            "Epoch 30/30\n",
            "782/782 [==============================] - 2s 3ms/step - loss: 0.3653 - accuracy: 0.8762 - val_loss: 0.4025 - val_accuracy: 0.8540\n",
            "Model Evaluation\n",
            "391/391 [==============================] - 1s 2ms/step - loss: 0.3827 - accuracy: 0.8642\n"
          ],
          "name": "stdout"
        },
        {
          "output_type": "display_data",
          "data": {
            "image/png": "[encoded data removed]",
            "text/plain": [
              "<Figure size 576x360 with 1 Axes>"
            ]
          },
          "metadata": {
            "tags": [],
            "needs_background": "light"
          }
        }
      ]
    },
    {
      "cell_type": "markdown",
      "metadata": {
        "id": "CgnCGYUvDqbC"
      },
      "source": [
        "### [TO COMPLETE] L2-norm\n",
        "\n",
        "L2-norm regularization is also known as weight decay. This strategy drives the weights closer to the origin by adding the regularization term omega which is defined as:\n",
        "$$\n",
        " \\Omega(\\theta)=\\frac{1}{2}||\\mathbf{W}||_2^2\n",
        "$$\n",
        "\n",
        "Let's find the values for the $\\alpha$ parameters that allow removing remove the overfitting effect with L2-norm."
      ]
    },
    {
      "cell_type": "code",
      "metadata": {
        "id": "qqNhu350DtJo",
        "colab": {
          "base_uri": "https://localhost:8080/",
          "height": 1000
        },
        "outputId": "19e75b01-8fdb-4e03-a16d-1efaa0c2125f"
      },
      "source": [
        "#[TO COMPLETE] insert the model that you previously defined that overfit the \n",
        "#trainig data, and add the L2-norm regularization. Use proper values for the\n",
        "#alpha hyper-parameters, that prevents the model from overfitting. The results  \n",
        "#reached by the model in terms of loss and accuracy (in all data sets) should be\n",
        "#comparable with the ones obtained by the initial model defined in Exercise 2.1\n",
        "\n",
        "#In general, a layer that exploits L2-norm regularization is defined as follow:\n",
        "\n",
        "#model.add(keras.layers.Dense(units=[TO COMPLETE], activation=[TO COMPLETE],kernel_regularizer=tf.keras.regularizers.l2([TO COMPLETE]))) \n",
        "\n",
        "model = keras.models.Sequential()\n",
        "#[TO COMPLETE]\n",
        "\n",
        "alpha = 1e-2\n",
        "model.add(tf.keras.Input(shape=(num_words,)))\n",
        "model.add(keras.layers.Dense(16, activation=\"relu\",kernel_regularizer=tf.keras.regularizers.l2(alpha)))\n",
        "model.add(keras.layers.Dense(32, activation=\"relu\",kernel_regularizer=tf.keras.regularizers.l2(alpha))) \n",
        "model.add(keras.layers.Dense(1, activation=\"sigmoid\",kernel_regularizer=tf.keras.regularizers.l2(alpha))) \n",
        "\n",
        "model.compile(loss=\"binary_crossentropy\",\n",
        "              optimizer=keras.optimizers.Adam(learning_rate=0.00025),#[TO COMPLETE] learning rate\n",
        "              metrics=[\"accuracy\"])\n",
        "\n",
        "history = model.fit(X_train, y_train, epochs=30,#[TO COMPLETE] epochs\n",
        "                    validation_data=(X_valid, y_valid))\n",
        "\n",
        "print(\"Model Evaluation\")\n",
        "model.evaluate(X_test, y_test)\n",
        "plot_learning_curves(history)"
      ],
      "execution_count": 15,
      "outputs": [
        {
          "output_type": "stream",
          "text": [
            "Epoch 1/30\n",
            "782/782 [==============================] - 3s 3ms/step - loss: 0.9586 - accuracy: 0.7224 - val_loss: 0.5705 - val_accuracy: 0.8477\n",
            "Epoch 2/30\n",
            "782/782 [==============================] - 2s 3ms/step - loss: 0.5390 - accuracy: 0.8554 - val_loss: 0.5021 - val_accuracy: 0.8504\n",
            "Epoch 3/30\n",
            "782/782 [==============================] - 2s 3ms/step - loss: 0.4730 - accuracy: 0.8673 - val_loss: 0.4853 - val_accuracy: 0.8478\n",
            "Epoch 4/30\n",
            "782/782 [==============================] - 2s 3ms/step - loss: 0.4585 - accuracy: 0.8651 - val_loss: 0.4805 - val_accuracy: 0.8455\n",
            "Epoch 5/30\n",
            "782/782 [==============================] - 3s 3ms/step - loss: 0.4476 - accuracy: 0.8695 - val_loss: 0.4644 - val_accuracy: 0.8530\n",
            "Epoch 6/30\n",
            "782/782 [==============================] - 2s 3ms/step - loss: 0.4400 - accuracy: 0.8671 - val_loss: 0.4572 - val_accuracy: 0.8568\n",
            "Epoch 7/30\n",
            "782/782 [==============================] - 2s 3ms/step - loss: 0.4339 - accuracy: 0.8701 - val_loss: 0.4608 - val_accuracy: 0.8516\n",
            "Epoch 8/30\n",
            "782/782 [==============================] - 3s 3ms/step - loss: 0.4378 - accuracy: 0.8664 - val_loss: 0.4525 - val_accuracy: 0.8571\n",
            "Epoch 9/30\n",
            "782/782 [==============================] - 3s 3ms/step - loss: 0.4320 - accuracy: 0.8689 - val_loss: 0.4513 - val_accuracy: 0.8578\n",
            "Epoch 10/30\n",
            "782/782 [==============================] - 3s 3ms/step - loss: 0.4307 - accuracy: 0.8676 - val_loss: 0.4507 - val_accuracy: 0.8570\n",
            "Epoch 11/30\n",
            "782/782 [==============================] - 2s 3ms/step - loss: 0.4326 - accuracy: 0.8671 - val_loss: 0.4501 - val_accuracy: 0.8544\n",
            "Epoch 12/30\n",
            "782/782 [==============================] - 2s 3ms/step - loss: 0.4261 - accuracy: 0.8710 - val_loss: 0.4516 - val_accuracy: 0.8558\n",
            "Epoch 13/30\n",
            "782/782 [==============================] - 2s 3ms/step - loss: 0.4330 - accuracy: 0.8665 - val_loss: 0.4494 - val_accuracy: 0.8550\n",
            "Epoch 14/30\n",
            "782/782 [==============================] - 2s 3ms/step - loss: 0.4257 - accuracy: 0.8714 - val_loss: 0.4493 - val_accuracy: 0.8561\n",
            "Epoch 15/30\n",
            "782/782 [==============================] - 3s 3ms/step - loss: 0.4288 - accuracy: 0.8692 - val_loss: 0.4475 - val_accuracy: 0.8569\n",
            "Epoch 16/30\n",
            "782/782 [==============================] - 2s 3ms/step - loss: 0.4282 - accuracy: 0.8657 - val_loss: 0.4494 - val_accuracy: 0.8555\n",
            "Epoch 17/30\n",
            "782/782 [==============================] - 2s 3ms/step - loss: 0.4299 - accuracy: 0.8679 - val_loss: 0.4504 - val_accuracy: 0.8550\n",
            "Epoch 18/30\n",
            "782/782 [==============================] - 3s 3ms/step - loss: 0.4283 - accuracy: 0.8683 - val_loss: 0.4486 - val_accuracy: 0.8551\n",
            "Epoch 19/30\n",
            "782/782 [==============================] - 3s 3ms/step - loss: 0.4315 - accuracy: 0.8683 - val_loss: 0.4462 - val_accuracy: 0.8583\n",
            "Epoch 20/30\n",
            "782/782 [==============================] - 3s 3ms/step - loss: 0.4268 - accuracy: 0.8700 - val_loss: 0.4465 - val_accuracy: 0.8562\n",
            "Epoch 21/30\n",
            "782/782 [==============================] - 2s 3ms/step - loss: 0.4303 - accuracy: 0.8687 - val_loss: 0.4463 - val_accuracy: 0.8567\n",
            "Epoch 22/30\n",
            "782/782 [==============================] - 2s 3ms/step - loss: 0.4291 - accuracy: 0.8661 - val_loss: 0.4464 - val_accuracy: 0.8569\n",
            "Epoch 23/30\n",
            "782/782 [==============================] - 2s 3ms/step - loss: 0.4238 - accuracy: 0.8707 - val_loss: 0.4475 - val_accuracy: 0.8558\n",
            "Epoch 24/30\n",
            "782/782 [==============================] - 2s 3ms/step - loss: 0.4251 - accuracy: 0.8699 - val_loss: 0.4471 - val_accuracy: 0.8573\n",
            "Epoch 25/30\n",
            "782/782 [==============================] - 2s 3ms/step - loss: 0.4234 - accuracy: 0.8712 - val_loss: 0.4465 - val_accuracy: 0.8555\n",
            "Epoch 26/30\n",
            "782/782 [==============================] - 2s 3ms/step - loss: 0.4274 - accuracy: 0.8692 - val_loss: 0.4561 - val_accuracy: 0.8493\n",
            "Epoch 27/30\n",
            "782/782 [==============================] - 2s 3ms/step - loss: 0.4270 - accuracy: 0.8654 - val_loss: 0.4452 - val_accuracy: 0.8567\n",
            "Epoch 28/30\n",
            "782/782 [==============================] - 2s 3ms/step - loss: 0.4232 - accuracy: 0.8702 - val_loss: 0.4471 - val_accuracy: 0.8562\n",
            "Epoch 29/30\n",
            "782/782 [==============================] - 2s 3ms/step - loss: 0.4228 - accuracy: 0.8677 - val_loss: 0.4445 - val_accuracy: 0.8578\n",
            "Epoch 30/30\n",
            "782/782 [==============================] - 2s 3ms/step - loss: 0.4249 - accuracy: 0.8715 - val_loss: 0.4468 - val_accuracy: 0.8557\n",
            "Model Evaluation\n",
            "391/391 [==============================] - 1s 2ms/step - loss: 0.4330 - accuracy: 0.8642\n"
          ],
          "name": "stdout"
        },
        {
          "output_type": "display_data",
          "data": {
            "image/png": "[encoded data removed]",
            "text/plain": [
              "<Figure size 576x360 with 1 Axes>"
            ]
          },
          "metadata": {
            "tags": [],
            "needs_background": "light"
          }
        }
      ]
    },
    {
      "cell_type": "markdown",
      "metadata": {
        "id": "xvyKPb4DD25G"
      },
      "source": [
        "###[TO COMPLETE] Early stopping\n",
        "\n",
        "Early Stopping is a form of regularization used to avoid overfitting. It is designed to monitor the generalization error of one model and stop training when generalization error begins to degrade. In order to evaluate the generalization error, early stopping requires that a validation dataset is evaluated during training. Then, when the validation error does not improve for a specific number of epochs (patience hyper-parameter), it stops the training phase."
      ]
    },
    {
      "cell_type": "code",
      "metadata": {
        "id": "MqNOOZ11D7cq",
        "colab": {
          "base_uri": "https://localhost:8080/",
          "height": 741
        },
        "outputId": "aadaaa05-f9fb-482d-8c18-1b1c424a5be9"
      },
      "source": [
        "#[TO COMPLETE] insert the model that you previously defined that overfit the \n",
        "#trainnig data\n",
        "model = keras.models.Sequential()\n",
        "\n",
        "model.add(tf.keras.Input(shape=(num_words,)))\n",
        "model.add(keras.layers.Dense(16, activation=\"relu\"))\n",
        "model.add(keras.layers.Dense(32, activation=\"relu\"))\n",
        "model.add(keras.layers.Dense(1, activation=\"sigmoid\"))\n",
        "\n",
        "model.compile(loss=\"binary_crossentropy\",\n",
        "              optimizer=keras.optimizers.Adam(learning_rate=0.00025),#[TO COMPLETE] learning rate\n",
        "              metrics=[\"accuracy\"])\n",
        "\n",
        "#Let's define a log dir in order to save the checkpoint file\n",
        "logdir = os.path.join(os.curdir, \"my_logs\", \"run_{}\".format(time.time()))\n",
        "\n",
        "#In Keras the Eraly stopping is manage by using the callbacks argument.\n",
        "callbacks = [\n",
        "    keras.callbacks.TensorBoard(logdir),\n",
        "    keras.callbacks.EarlyStopping(patience=3.5),#[TO COMPLETE] play with patience and find the value that prevents the model from overfitting.\n",
        "\n",
        "\n",
        "    #Saving the checkpoints file allows to load the \"best\" model when the Early \n",
        "    #stopping detect that the generalization error degrade (after 'patience' epochs)\n",
        "    keras.callbacks.ModelCheckpoint(\"my_mnist_model.h5\", save_best_only=True),\n",
        "]\n",
        "\n",
        "history = model.fit(X_train, y_train, epochs=30,#[TO COMPLETE] epochs\n",
        "                    validation_data=(X_valid, y_valid),\n",
        "                    callbacks=callbacks)\n",
        "\n",
        "print(\"Model Evaluation\")\n",
        "#The early stopping stopped training after few epochs without progress, so your\n",
        "#model may already have started to overfit the training set. Since the \n",
        "#ModelCheckpoint callback only saved the best models (on the validation set) the\n",
        "#last saved model is the best on the validation set.\n",
        "model = keras.models.load_model(\"my_mnist_model.h5\")\n",
        "model.evaluate(X_test, y_test)\n",
        "plot_learning_curves(history)"
      ],
      "execution_count": 16,
      "outputs": [
        {
          "output_type": "stream",
          "text": [
            "Epoch 1/30\n",
            "782/782 [==============================] - 3s 4ms/step - loss: 0.5732 - accuracy: 0.6931 - val_loss: 0.3516 - val_accuracy: 0.8481\n",
            "Epoch 2/30\n",
            "782/782 [==============================] - 2s 3ms/step - loss: 0.3340 - accuracy: 0.8579 - val_loss: 0.3395 - val_accuracy: 0.8540\n",
            "Epoch 3/30\n",
            "782/782 [==============================] - 2s 3ms/step - loss: 0.3024 - accuracy: 0.8768 - val_loss: 0.3412 - val_accuracy: 0.8520\n",
            "Epoch 4/30\n",
            "782/782 [==============================] - 2s 3ms/step - loss: 0.3019 - accuracy: 0.8758 - val_loss: 0.3459 - val_accuracy: 0.8513\n",
            "Epoch 5/30\n",
            "782/782 [==============================] - 2s 3ms/step - loss: 0.2957 - accuracy: 0.8809 - val_loss: 0.3375 - val_accuracy: 0.8543\n",
            "Epoch 6/30\n",
            "782/782 [==============================] - 3s 3ms/step - loss: 0.2860 - accuracy: 0.8814 - val_loss: 0.3367 - val_accuracy: 0.8530\n",
            "Epoch 7/30\n",
            "782/782 [==============================] - 2s 3ms/step - loss: 0.2799 - accuracy: 0.8840 - val_loss: 0.3430 - val_accuracy: 0.8506\n",
            "Epoch 8/30\n",
            "782/782 [==============================] - 2s 3ms/step - loss: 0.2774 - accuracy: 0.8846 - val_loss: 0.3405 - val_accuracy: 0.8523\n",
            "Epoch 9/30\n",
            "782/782 [==============================] - 2s 3ms/step - loss: 0.2655 - accuracy: 0.8910 - val_loss: 0.3433 - val_accuracy: 0.8520\n",
            "Epoch 10/30\n",
            "782/782 [==============================] - 2s 3ms/step - loss: 0.2556 - accuracy: 0.8945 - val_loss: 0.3456 - val_accuracy: 0.8516\n",
            "Model Evaluation\n",
            "391/391 [==============================] - 1s 2ms/step - loss: 0.3150 - accuracy: 0.8652\n"
          ],
          "name": "stdout"
        },
        {
          "output_type": "display_data",
          "data": {
            "image/png": "[encoded data removed]",
            "text/plain": [
              "<Figure size 576x360 with 1 Axes>"
            ]
          },
          "metadata": {
            "tags": [],
            "needs_background": "light"
          }
        }
      ]
    },
    {
      "cell_type": "markdown",
      "metadata": {
        "id": "DCV8pwVzl9GK"
      },
      "source": [
        "## Exercise 2.3: Model Selection\n",
        "\n",
        "Hyperparameters are the parameters of the learning method itself which we have to specify a priori, i.e., before model fitting. In contrast, model parameters are parameters which arise as a result of the fit (the network weights). The aim of model selection is selecting the best hyperparameters for our deep network. Finding the right hyperparameters for a model can be crucial for the model performance on given data. For istance lets consider our model trained by using different values for the learning rate: "
      ]
    },
    {
      "cell_type": "code",
      "metadata": {
        "id": "Fw8Hs-AEmLKh"
      },
      "source": [
        "learning_rates = [1e-4, 1e-2, 1e-1]"
      ],
      "execution_count": 17,
      "outputs": []
    },
    {
      "cell_type": "code",
      "metadata": {
        "id": "mym4GOgUmWqD",
        "colab": {
          "base_uri": "https://localhost:8080/"
        },
        "outputId": "96d8eadf-f30c-4489-f7a9-2b55915883d1"
      },
      "source": [
        "histories = []\n",
        "for learning_rate in learning_rates:\n",
        "    model = keras.models.Sequential([\n",
        "                                    tf.keras.Input(shape=(num_words,)),\n",
        "                                    keras.layers.Dense(16, activation=\"relu\"),\n",
        "                                    keras.layers.Dense(16, activation=\"relu\"),\n",
        "                                    keras.layers.Dense(1, activation=\"sigmoid\")\n",
        "                                     ])\n",
        "    model.compile(loss=\"binary_crossentropy\",\n",
        "              optimizer=keras.optimizers.Adam(learning_rate=learning_rate),\n",
        "              metrics=[\"accuracy\"])\n",
        "              \n",
        "    callbacks = [keras.callbacks.EarlyStopping(patience=2)]\n",
        "\n",
        "    history = model.fit(X_train, y_train,\n",
        "                        validation_data=(X_valid, y_valid), epochs=10,\n",
        "                        callbacks=callbacks)\n",
        "    histories.append(history)\n",
        "    print(\"evaluation on test set\")\n",
        "    model.evaluate(X_test, y_test)"
      ],
      "execution_count": 18,
      "outputs": [
        {
          "output_type": "stream",
          "text": [
            "Epoch 1/10\n",
            "782/782 [==============================] - 3s 3ms/step - loss: 0.6654 - accuracy: 0.5814 - val_loss: 0.4753 - val_accuracy: 0.8074\n",
            "Epoch 2/10\n",
            "782/782 [==============================] - 2s 3ms/step - loss: 0.4283 - accuracy: 0.8266 - val_loss: 0.3704 - val_accuracy: 0.8462\n",
            "Epoch 3/10\n",
            "782/782 [==============================] - 2s 3ms/step - loss: 0.3395 - accuracy: 0.8621 - val_loss: 0.3485 - val_accuracy: 0.8534\n",
            "Epoch 4/10\n",
            "782/782 [==============================] - 2s 3ms/step - loss: 0.3216 - accuracy: 0.8653 - val_loss: 0.3393 - val_accuracy: 0.8567\n",
            "Epoch 5/10\n",
            "782/782 [==============================] - 2s 3ms/step - loss: 0.3102 - accuracy: 0.8740 - val_loss: 0.3378 - val_accuracy: 0.8571\n",
            "Epoch 6/10\n",
            "782/782 [==============================] - 2s 3ms/step - loss: 0.3019 - accuracy: 0.8756 - val_loss: 0.3353 - val_accuracy: 0.8562\n",
            "Epoch 7/10\n",
            "782/782 [==============================] - 3s 3ms/step - loss: 0.2960 - accuracy: 0.8788 - val_loss: 0.3356 - val_accuracy: 0.8562\n",
            "Epoch 8/10\n",
            "782/782 [==============================] - 3s 3ms/step - loss: 0.3010 - accuracy: 0.8765 - val_loss: 0.3360 - val_accuracy: 0.8551\n",
            "evaluation on test set\n",
            "391/391 [==============================] - 1s 2ms/step - loss: 0.3170 - accuracy: 0.8656\n",
            "Epoch 1/10\n",
            "782/782 [==============================] - 3s 3ms/step - loss: 0.4113 - accuracy: 0.8135 - val_loss: 0.3384 - val_accuracy: 0.8513\n",
            "Epoch 2/10\n",
            "782/782 [==============================] - 2s 3ms/step - loss: 0.3187 - accuracy: 0.8599 - val_loss: 0.3431 - val_accuracy: 0.8503\n",
            "Epoch 3/10\n",
            "782/782 [==============================] - 2s 3ms/step - loss: 0.2839 - accuracy: 0.8771 - val_loss: 0.3513 - val_accuracy: 0.8486\n",
            "evaluation on test set\n",
            "391/391 [==============================] - 1s 2ms/step - loss: 0.3284 - accuracy: 0.8597\n",
            "Epoch 1/10\n",
            "782/782 [==============================] - 3s 3ms/step - loss: 0.7537 - accuracy: 0.5033 - val_loss: 0.6932 - val_accuracy: 0.5053\n",
            "Epoch 2/10\n",
            "782/782 [==============================] - 2s 3ms/step - loss: 0.6951 - accuracy: 0.5027 - val_loss: 0.6931 - val_accuracy: 0.5053\n",
            "Epoch 3/10\n",
            "782/782 [==============================] - 2s 3ms/step - loss: 0.6951 - accuracy: 0.4922 - val_loss: 0.7039 - val_accuracy: 0.4947\n",
            "Epoch 4/10\n",
            "782/782 [==============================] - 2s 3ms/step - loss: 0.6952 - accuracy: 0.5024 - val_loss: 0.6975 - val_accuracy: 0.4947\n",
            "evaluation on test set\n",
            "391/391 [==============================] - 1s 2ms/step - loss: 0.6957 - accuracy: 0.5053\n"
          ],
          "name": "stdout"
        }
      ]
    },
    {
      "cell_type": "markdown",
      "metadata": {
        "id": "RzTSjfwptkHJ"
      },
      "source": [
        "Let's plot the results"
      ]
    },
    {
      "cell_type": "code",
      "metadata": {
        "id": "cIlN1vlioIYh",
        "colab": {
          "base_uri": "https://localhost:8080/",
          "height": 982
        },
        "outputId": "bb108163-63a5-464f-b820-63e14afa1e44"
      },
      "source": [
        "for learning_rate, history in zip(learning_rates, histories):\n",
        "    print(\"Learning rate:\", learning_rate)\n",
        "    plot_learning_acc_and_loss(history)"
      ],
      "execution_count": 19,
      "outputs": [
        {
          "output_type": "stream",
          "text": [
            "Learning rate: 0.0001\n"
          ],
          "name": "stdout"
        },
        {
          "output_type": "display_data",
          "data": {
            "image/png": "[encoded data removed]",
            "text/plain": [
              "<Figure size 576x360 with 1 Axes>"
            ]
          },
          "metadata": {
            "tags": [],
            "needs_background": "light"
          }
        },
        {
          "output_type": "stream",
          "text": [
            "Learning rate: 0.01\n"
          ],
          "name": "stdout"
        },
        {
          "output_type": "display_data",
          "data": {
            "image/png": "[encoded data removed]",
            "text/plain": [
              "<Figure size 576x360 with 1 Axes>"
            ]
          },
          "metadata": {
            "tags": [],
            "needs_background": "light"
          }
        },
        {
          "output_type": "stream",
          "text": [
            "Learning rate: 0.1\n"
          ],
          "name": "stdout"
        },
        {
          "output_type": "display_data",
          "data": {
            "image/png": "[encoded data removed]",
            "text/plain": [
              "<Figure size 576x360 with 1 Axes>"
            ]
          },
          "metadata": {
            "tags": [],
            "needs_background": "light"
          }
        }
      ]
    },
    {
      "cell_type": "markdown",
      "metadata": {
        "id": "_JntujSWq3e5"
      },
      "source": [
        "### [TO COMPLETE] GRID Search:\n",
        "\n",
        "Since a deep net has many hyperparameters, in order to find the best ones, we have to consider all the possible combinations of all of the possible values. One common method to perform this complex task is Grid-Search.\n",
        "Given a set of values for each hyper-parameter, Grid-Search will build a model on each parameter combination possible. It iterates through every parameter combination and stores a model for each combination. Finally, the model that obtained the best result on the validation set will be select.\n",
        "\n",
        "In order to perfrom Grid-Search we will use the GridSearchCV method from scikit-learn."
      ]
    },
    {
      "cell_type": "markdown",
      "metadata": {
        "id": "CPz629YSrDhN"
      },
      "source": [
        "Let's Create a build_model() function that takes two arguments, n_neurons, learning_rate, and builds, compiles and returns a model with the given number of of neurons and the given learning rate.\n",
        "In order to limit the time requirements of the process we will consider only these two hyper-paramters.\n",
        "\n",
        "[TO COMPLETE] in the following code cell define the build_model function."
      ]
    },
    {
      "cell_type": "code",
      "metadata": {
        "id": "oGSKWTTtqxZ4"
      },
      "source": [
        "def build_model(n_units=30, learning_rate=1e-3):\n",
        "    # The function has to build a model similar to the ones we used in previuous execises:\n",
        "    #- a input layer \n",
        "    #- one or two Dense layers composed of n_units and that exploit Relu activation function \n",
        "    #- the output layer that uses the sigmoid activation function\n",
        "    # Then, the model has to be compiled.\n",
        "    model = keras.models.Sequential([\n",
        "                                    tf.keras.Input(shape=(num_words,)),\n",
        "                                    keras.layers.Dense(n_units, activation=\"relu\"),\n",
        "                                    keras.layers.Dense(n_units, activation=\"relu\"),\n",
        "                                    keras.layers.Dense(1, activation=\"sigmoid\")\n",
        "                                     ])\n",
        "             \n",
        "    # [TO COMPLETE] Then, the model has to be compiled.\n",
        "    \n",
        "    model.compile(loss=\"binary_crossentropy\",\n",
        "              optimizer=keras.optimizers.Adam(learning_rate=learning_rate),\n",
        "              metrics=[\"accuracy\"])\n",
        "        \n",
        "    return model\n",
        "\n",
        "    \n",
        "#Create a keras.wrappers.scikit_learn.KerasRegressor and pass the build_model \n",
        "#function to the constructor. This gives you a Scikit-Learn compatible predictor\n",
        "keras_reg = keras.wrappers.scikit_learn.KerasRegressor(build_model)"
      ],
      "execution_count": 20,
      "outputs": []
    },
    {
      "cell_type": "markdown",
      "metadata": {
        "id": "PS6W3A2LxDg5"
      },
      "source": [
        "Let's define the lists of hyper-parameters' values. Also in this case, we use a very limited size lists, but in a real-world scenario a reasonable amount of possible values should be considered (try to add some values and check how much the time required to perform the Grid-Search increases)"
      ]
    },
    {
      "cell_type": "code",
      "metadata": {
        "id": "y-uldCW3ru24"
      },
      "source": [
        "param_distribs = {\n",
        "    \"n_units\": [12, 16, 20],# [TO COMPLETE] insert a list that contains few (2 or 3) reasonable value\n",
        "    \"learning_rate\": [1e-4, 1e-3] #[TO COMPLETE] insert a list that contains few (2 or 3) reasonable values\n",
        "    #Check how the time required to perform GRID search increases when increasing the number of values for each hyper-parameter.\n",
        "}"
      ],
      "execution_count": 21,
      "outputs": []
    },
    {
      "cell_type": "markdown",
      "metadata": {
        "id": "bEiBxVYtx_sK"
      },
      "source": [
        "Use a sklearn.model_selection.GridSearchCV to search the hyperparameter space of your KerasRegressor"
      ]
    },
    {
      "cell_type": "code",
      "metadata": {
        "id": "iobF2Bvdr9ER"
      },
      "source": [
        "from sklearn.model_selection import GridSearchCV\n",
        "\n",
        "grid_search = GridSearchCV(keras_reg, param_distribs)"
      ],
      "execution_count": 22,
      "outputs": []
    },
    {
      "cell_type": "markdown",
      "metadata": {
        "id": "LVGMcZz_yKSX"
      },
      "source": [
        "Run the Grid-Search"
      ]
    },
    {
      "cell_type": "code",
      "metadata": {
        "id": "-BA3vgTjr-hw",
        "colab": {
          "base_uri": "https://localhost:8080/"
        },
        "outputId": "a9ab8669-538b-4d0f-e383-b4b5b9747df9"
      },
      "source": [
        "\n",
        "grid_search.fit(X_train.numpy(), y_train, epochs=6,#The number of epochs can be modified (check what happens by increasing it)\n",
        "                validation_data=(X_valid.numpy(), y_valid))"
      ],
      "execution_count": 23,
      "outputs": [
        {
          "output_type": "stream",
          "text": [
            "Epoch 1/6\n",
            "625/625 [==============================] - 2s 3ms/step - loss: 0.6904 - accuracy: 0.5184 - val_loss: 0.6305 - val_accuracy: 0.6811\n",
            "Epoch 2/6\n",
            "625/625 [==============================] - 2s 3ms/step - loss: 0.5760 - accuracy: 0.7501 - val_loss: 0.4679 - val_accuracy: 0.8204\n",
            "Epoch 3/6\n",
            "625/625 [==============================] - 2s 3ms/step - loss: 0.4315 - accuracy: 0.8370 - val_loss: 0.3933 - val_accuracy: 0.8420\n",
            "Epoch 4/6\n",
            "625/625 [==============================] - 2s 3ms/step - loss: 0.3632 - accuracy: 0.8578 - val_loss: 0.3640 - val_accuracy: 0.8502\n",
            "Epoch 5/6\n",
            "625/625 [==============================] - 2s 3ms/step - loss: 0.3300 - accuracy: 0.8674 - val_loss: 0.3515 - val_accuracy: 0.8537\n",
            "Epoch 6/6\n",
            "625/625 [==============================] - 2s 3ms/step - loss: 0.3214 - accuracy: 0.8713 - val_loss: 0.3459 - val_accuracy: 0.8541\n",
            "157/157 [==============================] - 0s 2ms/step - loss: 0.3406 - accuracy: 0.8604\n",
            "Epoch 1/6\n",
            "625/625 [==============================] - 2s 3ms/step - loss: 0.6766 - accuracy: 0.5595 - val_loss: 0.5332 - val_accuracy: 0.7628\n",
            "Epoch 2/6\n",
            "625/625 [==============================] - 2s 3ms/step - loss: 0.4811 - accuracy: 0.7952 - val_loss: 0.4143 - val_accuracy: 0.8279\n",
            "Epoch 3/6\n",
            "625/625 [==============================] - 2s 3ms/step - loss: 0.3862 - accuracy: 0.8425 - val_loss: 0.3702 - val_accuracy: 0.8445\n",
            "Epoch 4/6\n",
            "625/625 [==============================] - 2s 3ms/step - loss: 0.3404 - accuracy: 0.8590 - val_loss: 0.3518 - val_accuracy: 0.8520\n",
            "Epoch 5/6\n",
            "625/625 [==============================] - 2s 3ms/step - loss: 0.3188 - accuracy: 0.8698 - val_loss: 0.3439 - val_accuracy: 0.8550\n",
            "Epoch 6/6\n",
            "625/625 [==============================] - 2s 3ms/step - loss: 0.3134 - accuracy: 0.8721 - val_loss: 0.3406 - val_accuracy: 0.8552\n",
            "157/157 [==============================] - 0s 2ms/step - loss: 0.3273 - accuracy: 0.8628\n",
            "Epoch 1/6\n",
            "625/625 [==============================] - 2s 3ms/step - loss: 0.6581 - accuracy: 0.6290 - val_loss: 0.5257 - val_accuracy: 0.7866\n",
            "Epoch 2/6\n",
            "625/625 [==============================] - 2s 3ms/step - loss: 0.4823 - accuracy: 0.8143 - val_loss: 0.4173 - val_accuracy: 0.8324\n",
            "Epoch 3/6\n",
            "625/625 [==============================] - 2s 3ms/step - loss: 0.3943 - accuracy: 0.8416 - val_loss: 0.3727 - val_accuracy: 0.8459\n",
            "Epoch 4/6\n",
            "625/625 [==============================] - 2s 3ms/step - loss: 0.3464 - accuracy: 0.8604 - val_loss: 0.3530 - val_accuracy: 0.8512\n",
            "Epoch 5/6\n",
            "625/625 [==============================] - 2s 3ms/step - loss: 0.3225 - accuracy: 0.8695 - val_loss: 0.3430 - val_accuracy: 0.8548\n",
            "Epoch 6/6\n",
            "625/625 [==============================] - 2s 3ms/step - loss: 0.3161 - accuracy: 0.8698 - val_loss: 0.3383 - val_accuracy: 0.8552\n",
            "157/157 [==============================] - 0s 2ms/step - loss: 0.3431 - accuracy: 0.8524\n",
            "Epoch 1/6\n",
            "625/625 [==============================] - 2s 3ms/step - loss: 0.6608 - accuracy: 0.6103 - val_loss: 0.5239 - val_accuracy: 0.7738\n",
            "Epoch 2/6\n",
            "625/625 [==============================] - 2s 3ms/step - loss: 0.4747 - accuracy: 0.7999 - val_loss: 0.4117 - val_accuracy: 0.8288\n",
            "Epoch 3/6\n",
            "625/625 [==============================] - 2s 3ms/step - loss: 0.3873 - accuracy: 0.8418 - val_loss: 0.3686 - val_accuracy: 0.8424\n",
            "Epoch 4/6\n",
            "625/625 [==============================] - 2s 3ms/step - loss: 0.3425 - accuracy: 0.8590 - val_loss: 0.3506 - val_accuracy: 0.8485\n",
            "Epoch 5/6\n",
            "625/625 [==============================] - 2s 3ms/step - loss: 0.3194 - accuracy: 0.8682 - val_loss: 0.3423 - val_accuracy: 0.8522\n",
            "Epoch 6/6\n",
            "625/625 [==============================] - 2s 3ms/step - loss: 0.3117 - accuracy: 0.8703 - val_loss: 0.3381 - val_accuracy: 0.8541\n",
            "157/157 [==============================] - 0s 2ms/step - loss: 0.3372 - accuracy: 0.8604\n",
            "Epoch 1/6\n",
            "625/625 [==============================] - 2s 3ms/step - loss: 0.6843 - accuracy: 0.5486 - val_loss: 0.5791 - val_accuracy: 0.7480\n",
            "Epoch 2/6\n",
            "625/625 [==============================] - 2s 3ms/step - loss: 0.5291 - accuracy: 0.7823 - val_loss: 0.4402 - val_accuracy: 0.8206\n",
            "Epoch 3/6\n",
            "625/625 [==============================] - 2s 3ms/step - loss: 0.4101 - accuracy: 0.8362 - val_loss: 0.3819 - val_accuracy: 0.8414\n",
            "Epoch 4/6\n",
            "625/625 [==============================] - 2s 3ms/step - loss: 0.3567 - accuracy: 0.8534 - val_loss: 0.3581 - val_accuracy: 0.8490\n",
            "Epoch 5/6\n",
            "625/625 [==============================] - 2s 3ms/step - loss: 0.3315 - accuracy: 0.8632 - val_loss: 0.3476 - val_accuracy: 0.8529\n",
            "Epoch 6/6\n",
            "625/625 [==============================] - 2s 3ms/step - loss: 0.3161 - accuracy: 0.8693 - val_loss: 0.3421 - val_accuracy: 0.8537\n",
            "157/157 [==============================] - 0s 2ms/step - loss: 0.3301 - accuracy: 0.8596\n",
            "Epoch 1/6\n",
            "625/625 [==============================] - 2s 3ms/step - loss: 0.6710 - accuracy: 0.5871 - val_loss: 0.5141 - val_accuracy: 0.7775\n",
            "Epoch 2/6\n",
            "625/625 [==============================] - 2s 3ms/step - loss: 0.4621 - accuracy: 0.8102 - val_loss: 0.3981 - val_accuracy: 0.8316\n",
            "Epoch 3/6\n",
            "625/625 [==============================] - 2s 3ms/step - loss: 0.3706 - accuracy: 0.8511 - val_loss: 0.3608 - val_accuracy: 0.8458\n",
            "Epoch 4/6\n",
            "625/625 [==============================] - 2s 3ms/step - loss: 0.3341 - accuracy: 0.8632 - val_loss: 0.3465 - val_accuracy: 0.8508\n",
            "Epoch 5/6\n",
            "625/625 [==============================] - 2s 3ms/step - loss: 0.3096 - accuracy: 0.8758 - val_loss: 0.3413 - val_accuracy: 0.8534\n",
            "Epoch 6/6\n",
            "625/625 [==============================] - 2s 3ms/step - loss: 0.3074 - accuracy: 0.8763 - val_loss: 0.3396 - val_accuracy: 0.8549\n",
            "157/157 [==============================] - 0s 2ms/step - loss: 0.3375 - accuracy: 0.8610\n",
            "Epoch 1/6\n",
            "625/625 [==============================] - 2s 3ms/step - loss: 0.6688 - accuracy: 0.6062 - val_loss: 0.5312 - val_accuracy: 0.7778\n",
            "Epoch 2/6\n",
            "625/625 [==============================] - 2s 3ms/step - loss: 0.4780 - accuracy: 0.8074 - val_loss: 0.4083 - val_accuracy: 0.8292\n",
            "Epoch 3/6\n",
            "625/625 [==============================] - 2s 3ms/step - loss: 0.3827 - accuracy: 0.8424 - val_loss: 0.3681 - val_accuracy: 0.8418\n",
            "Epoch 4/6\n",
            "625/625 [==============================] - 2s 3ms/step - loss: 0.3396 - accuracy: 0.8601 - val_loss: 0.3516 - val_accuracy: 0.8479\n",
            "Epoch 5/6\n",
            "625/625 [==============================] - 2s 3ms/step - loss: 0.3178 - accuracy: 0.8704 - val_loss: 0.3439 - val_accuracy: 0.8522\n",
            "Epoch 6/6\n",
            "625/625 [==============================] - 2s 3ms/step - loss: 0.3125 - accuracy: 0.8732 - val_loss: 0.3404 - val_accuracy: 0.8538\n",
            "157/157 [==============================] - 0s 2ms/step - loss: 0.3284 - accuracy: 0.8600\n",
            "Epoch 1/6\n",
            "625/625 [==============================] - 2s 3ms/step - loss: 0.6677 - accuracy: 0.5921 - val_loss: 0.5354 - val_accuracy: 0.7709\n",
            "Epoch 2/6\n",
            "625/625 [==============================] - 2s 3ms/step - loss: 0.4766 - accuracy: 0.8065 - val_loss: 0.3991 - val_accuracy: 0.8305\n",
            "Epoch 3/6\n",
            "625/625 [==============================] - 2s 3ms/step - loss: 0.3707 - accuracy: 0.8459 - val_loss: 0.3592 - val_accuracy: 0.8459\n",
            "Epoch 4/6\n",
            "625/625 [==============================] - 2s 3ms/step - loss: 0.3300 - accuracy: 0.8650 - val_loss: 0.3456 - val_accuracy: 0.8509\n",
            "Epoch 5/6\n",
            "625/625 [==============================] - 2s 3ms/step - loss: 0.3109 - accuracy: 0.8713 - val_loss: 0.3400 - val_accuracy: 0.8535\n",
            "Epoch 6/6\n",
            "625/625 [==============================] - 2s 3ms/step - loss: 0.3062 - accuracy: 0.8725 - val_loss: 0.3379 - val_accuracy: 0.8542\n",
            "157/157 [==============================] - 0s 2ms/step - loss: 0.3412 - accuracy: 0.8546\n",
            "Epoch 1/6\n",
            "625/625 [==============================] - 2s 3ms/step - loss: 0.6693 - accuracy: 0.5865 - val_loss: 0.5283 - val_accuracy: 0.7834\n",
            "Epoch 2/6\n",
            "625/625 [==============================] - 2s 3ms/step - loss: 0.4728 - accuracy: 0.8168 - val_loss: 0.4062 - val_accuracy: 0.8319\n",
            "Epoch 3/6\n",
            "625/625 [==============================] - 2s 3ms/step - loss: 0.3784 - accuracy: 0.8416 - val_loss: 0.3636 - val_accuracy: 0.8476\n",
            "Epoch 4/6\n",
            "625/625 [==============================] - 2s 3ms/step - loss: 0.3382 - accuracy: 0.8581 - val_loss: 0.3470 - val_accuracy: 0.8542\n",
            "Epoch 5/6\n",
            "625/625 [==============================] - 2s 3ms/step - loss: 0.3131 - accuracy: 0.8706 - val_loss: 0.3401 - val_accuracy: 0.8555\n",
            "Epoch 6/6\n",
            "625/625 [==============================] - 2s 3ms/step - loss: 0.3090 - accuracy: 0.8744 - val_loss: 0.3369 - val_accuracy: 0.8569\n",
            "157/157 [==============================] - 0s 2ms/step - loss: 0.3359 - accuracy: 0.8578\n",
            "Epoch 1/6\n",
            "625/625 [==============================] - 2s 3ms/step - loss: 0.6656 - accuracy: 0.5870 - val_loss: 0.5209 - val_accuracy: 0.7756\n",
            "Epoch 2/6\n",
            "625/625 [==============================] - 2s 3ms/step - loss: 0.4713 - accuracy: 0.8039 - val_loss: 0.4029 - val_accuracy: 0.8315\n",
            "Epoch 3/6\n",
            "625/625 [==============================] - 2s 3ms/step - loss: 0.3784 - accuracy: 0.8435 - val_loss: 0.3634 - val_accuracy: 0.8446\n",
            "Epoch 4/6\n",
            "625/625 [==============================] - 2s 3ms/step - loss: 0.3379 - accuracy: 0.8604 - val_loss: 0.3485 - val_accuracy: 0.8508\n",
            "Epoch 5/6\n",
            "625/625 [==============================] - 2s 3ms/step - loss: 0.3170 - accuracy: 0.8697 - val_loss: 0.3428 - val_accuracy: 0.8546\n",
            "Epoch 6/6\n",
            "625/625 [==============================] - 2s 3ms/step - loss: 0.3050 - accuracy: 0.8728 - val_loss: 0.3398 - val_accuracy: 0.8542\n",
            "157/157 [==============================] - 0s 2ms/step - loss: 0.3310 - accuracy: 0.8628\n",
            "Epoch 1/6\n",
            "625/625 [==============================] - 2s 3ms/step - loss: 0.6638 - accuracy: 0.5977 - val_loss: 0.5071 - val_accuracy: 0.7805\n",
            "Epoch 2/6\n",
            "625/625 [==============================] - 2s 3ms/step - loss: 0.4511 - accuracy: 0.8160 - val_loss: 0.3913 - val_accuracy: 0.8361\n",
            "Epoch 3/6\n",
            "625/625 [==============================] - 2s 3ms/step - loss: 0.3593 - accuracy: 0.8559 - val_loss: 0.3585 - val_accuracy: 0.8486\n",
            "Epoch 4/6\n",
            "625/625 [==============================] - 2s 3ms/step - loss: 0.3270 - accuracy: 0.8620 - val_loss: 0.3472 - val_accuracy: 0.8513\n",
            "Epoch 5/6\n",
            "625/625 [==============================] - 2s 3ms/step - loss: 0.3036 - accuracy: 0.8733 - val_loss: 0.3431 - val_accuracy: 0.8550\n",
            "Epoch 6/6\n",
            "625/625 [==============================] - 2s 3ms/step - loss: 0.3031 - accuracy: 0.8756 - val_loss: 0.3426 - val_accuracy: 0.8542\n",
            "157/157 [==============================] - 0s 2ms/step - loss: 0.3386 - accuracy: 0.8588\n",
            "Epoch 1/6\n",
            "625/625 [==============================] - 2s 3ms/step - loss: 0.6828 - accuracy: 0.5618 - val_loss: 0.5428 - val_accuracy: 0.7718\n",
            "Epoch 2/6\n",
            "625/625 [==============================] - 2s 3ms/step - loss: 0.4854 - accuracy: 0.8041 - val_loss: 0.3994 - val_accuracy: 0.8340\n",
            "Epoch 3/6\n",
            "625/625 [==============================] - 2s 3ms/step - loss: 0.3748 - accuracy: 0.8481 - val_loss: 0.3586 - val_accuracy: 0.8483\n",
            "Epoch 4/6\n",
            "625/625 [==============================] - 2s 3ms/step - loss: 0.3334 - accuracy: 0.8620 - val_loss: 0.3447 - val_accuracy: 0.8544\n",
            "Epoch 5/6\n",
            "625/625 [==============================] - 2s 3ms/step - loss: 0.3116 - accuracy: 0.8724 - val_loss: 0.3390 - val_accuracy: 0.8574\n",
            "Epoch 6/6\n",
            "625/625 [==============================] - 2s 3ms/step - loss: 0.3068 - accuracy: 0.8767 - val_loss: 0.3376 - val_accuracy: 0.8581\n",
            "157/157 [==============================] - 0s 2ms/step - loss: 0.3284 - accuracy: 0.8586\n",
            "Epoch 1/6\n",
            "625/625 [==============================] - 2s 3ms/step - loss: 0.6749 - accuracy: 0.5848 - val_loss: 0.5212 - val_accuracy: 0.7821\n",
            "Epoch 2/6\n",
            "625/625 [==============================] - 2s 3ms/step - loss: 0.4561 - accuracy: 0.8156 - val_loss: 0.3886 - val_accuracy: 0.8366\n",
            "Epoch 3/6\n",
            "625/625 [==============================] - 2s 3ms/step - loss: 0.3577 - accuracy: 0.8501 - val_loss: 0.3575 - val_accuracy: 0.8474\n",
            "Epoch 4/6\n",
            "625/625 [==============================] - 2s 3ms/step - loss: 0.3234 - accuracy: 0.8683 - val_loss: 0.3467 - val_accuracy: 0.8508\n",
            "Epoch 5/6\n",
            "625/625 [==============================] - 2s 3ms/step - loss: 0.3080 - accuracy: 0.8729 - val_loss: 0.3413 - val_accuracy: 0.8537\n",
            "Epoch 6/6\n",
            "625/625 [==============================] - 2s 3ms/step - loss: 0.3050 - accuracy: 0.8711 - val_loss: 0.3398 - val_accuracy: 0.8523\n",
            "157/157 [==============================] - 0s 2ms/step - loss: 0.3427 - accuracy: 0.8546\n",
            "Epoch 1/6\n",
            "625/625 [==============================] - 2s 3ms/step - loss: 0.6778 - accuracy: 0.5509 - val_loss: 0.5099 - val_accuracy: 0.7829\n",
            "Epoch 2/6\n",
            "625/625 [==============================] - 2s 3ms/step - loss: 0.4524 - accuracy: 0.8136 - val_loss: 0.3904 - val_accuracy: 0.8341\n",
            "Epoch 3/6\n",
            "625/625 [==============================] - 2s 3ms/step - loss: 0.3613 - accuracy: 0.8484 - val_loss: 0.3562 - val_accuracy: 0.8496\n",
            "Epoch 4/6\n",
            "625/625 [==============================] - 2s 3ms/step - loss: 0.3275 - accuracy: 0.8628 - val_loss: 0.3440 - val_accuracy: 0.8538\n",
            "Epoch 5/6\n",
            "625/625 [==============================] - 2s 3ms/step - loss: 0.3068 - accuracy: 0.8732 - val_loss: 0.3396 - val_accuracy: 0.8550\n",
            "Epoch 6/6\n",
            "625/625 [==============================] - 2s 3ms/step - loss: 0.3046 - accuracy: 0.8729 - val_loss: 0.3380 - val_accuracy: 0.8552\n",
            "157/157 [==============================] - 0s 2ms/step - loss: 0.3327 - accuracy: 0.8634\n",
            "Epoch 1/6\n",
            "625/625 [==============================] - 2s 3ms/step - loss: 0.6835 - accuracy: 0.5416 - val_loss: 0.5539 - val_accuracy: 0.7762\n",
            "Epoch 2/6\n",
            "625/625 [==============================] - 2s 3ms/step - loss: 0.4953 - accuracy: 0.8034 - val_loss: 0.3965 - val_accuracy: 0.8365\n",
            "Epoch 3/6\n",
            "625/625 [==============================] - 2s 3ms/step - loss: 0.3701 - accuracy: 0.8450 - val_loss: 0.3558 - val_accuracy: 0.8503\n",
            "Epoch 4/6\n",
            "625/625 [==============================] - 2s 3ms/step - loss: 0.3303 - accuracy: 0.8642 - val_loss: 0.3439 - val_accuracy: 0.8549\n",
            "Epoch 5/6\n",
            "625/625 [==============================] - 2s 3ms/step - loss: 0.3116 - accuracy: 0.8737 - val_loss: 0.3403 - val_accuracy: 0.8552\n",
            "Epoch 6/6\n",
            "625/625 [==============================] - 2s 3ms/step - loss: 0.3020 - accuracy: 0.8771 - val_loss: 0.3390 - val_accuracy: 0.8567\n",
            "157/157 [==============================] - 0s 2ms/step - loss: 0.3278 - accuracy: 0.8640\n",
            "Epoch 1/6\n",
            "625/625 [==============================] - 2s 3ms/step - loss: 0.4979 - accuracy: 0.7493 - val_loss: 0.3405 - val_accuracy: 0.8547\n",
            "Epoch 2/6\n",
            "625/625 [==============================] - 2s 3ms/step - loss: 0.3093 - accuracy: 0.8727 - val_loss: 0.3423 - val_accuracy: 0.8522\n",
            "Epoch 3/6\n",
            "625/625 [==============================] - 2s 3ms/step - loss: 0.3003 - accuracy: 0.8738 - val_loss: 0.3489 - val_accuracy: 0.8495\n",
            "Epoch 4/6\n",
            "625/625 [==============================] - 2s 3ms/step - loss: 0.2901 - accuracy: 0.8790 - val_loss: 0.3455 - val_accuracy: 0.8483\n",
            "Epoch 5/6\n",
            "625/625 [==============================] - 2s 3ms/step - loss: 0.2617 - accuracy: 0.8924 - val_loss: 0.3616 - val_accuracy: 0.8419\n",
            "Epoch 6/6\n",
            "625/625 [==============================] - 2s 3ms/step - loss: 0.2516 - accuracy: 0.8983 - val_loss: 0.3657 - val_accuracy: 0.8457\n",
            "157/157 [==============================] - 0s 2ms/step - loss: 0.3679 - accuracy: 0.8472\n",
            "Epoch 1/6\n",
            "625/625 [==============================] - 2s 3ms/step - loss: 0.5021 - accuracy: 0.7513 - val_loss: 0.3384 - val_accuracy: 0.8569\n",
            "Epoch 2/6\n",
            "625/625 [==============================] - 2s 3ms/step - loss: 0.3132 - accuracy: 0.8727 - val_loss: 0.3393 - val_accuracy: 0.8551\n",
            "Epoch 3/6\n",
            "625/625 [==============================] - 2s 3ms/step - loss: 0.3113 - accuracy: 0.8723 - val_loss: 0.3573 - val_accuracy: 0.8456\n",
            "Epoch 4/6\n",
            "625/625 [==============================] - 2s 3ms/step - loss: 0.3065 - accuracy: 0.8751 - val_loss: 0.3388 - val_accuracy: 0.8533\n",
            "Epoch 5/6\n",
            "625/625 [==============================] - 2s 3ms/step - loss: 0.2862 - accuracy: 0.8805 - val_loss: 0.3411 - val_accuracy: 0.8507\n",
            "Epoch 6/6\n",
            "625/625 [==============================] - 2s 3ms/step - loss: 0.2810 - accuracy: 0.8840 - val_loss: 0.3377 - val_accuracy: 0.8538\n",
            "157/157 [==============================] - 0s 2ms/step - loss: 0.3265 - accuracy: 0.8612\n",
            "Epoch 1/6\n",
            "625/625 [==============================] - 2s 3ms/step - loss: 0.5076 - accuracy: 0.7444 - val_loss: 0.3385 - val_accuracy: 0.8542\n",
            "Epoch 2/6\n",
            "625/625 [==============================] - 2s 3ms/step - loss: 0.3107 - accuracy: 0.8715 - val_loss: 0.3356 - val_accuracy: 0.8534\n",
            "Epoch 3/6\n",
            "625/625 [==============================] - 2s 3ms/step - loss: 0.2980 - accuracy: 0.8771 - val_loss: 0.3450 - val_accuracy: 0.8518\n",
            "Epoch 4/6\n",
            "625/625 [==============================] - 2s 3ms/step - loss: 0.2829 - accuracy: 0.8827 - val_loss: 0.3413 - val_accuracy: 0.8475\n",
            "Epoch 5/6\n",
            "625/625 [==============================] - 2s 3ms/step - loss: 0.2584 - accuracy: 0.8936 - val_loss: 0.3467 - val_accuracy: 0.8458\n",
            "Epoch 6/6\n",
            "625/625 [==============================] - 2s 3ms/step - loss: 0.2432 - accuracy: 0.9000 - val_loss: 0.3647 - val_accuracy: 0.8443\n",
            "157/157 [==============================] - 0s 2ms/step - loss: 0.3708 - accuracy: 0.8488\n",
            "Epoch 1/6\n",
            "625/625 [==============================] - 2s 3ms/step - loss: 0.4936 - accuracy: 0.7538 - val_loss: 0.3450 - val_accuracy: 0.8525\n",
            "Epoch 2/6\n",
            "625/625 [==============================] - 2s 3ms/step - loss: 0.3100 - accuracy: 0.8698 - val_loss: 0.3339 - val_accuracy: 0.8526\n",
            "Epoch 3/6\n",
            "625/625 [==============================] - 2s 3ms/step - loss: 0.2991 - accuracy: 0.8731 - val_loss: 0.3431 - val_accuracy: 0.8506\n",
            "Epoch 4/6\n",
            "625/625 [==============================] - 2s 3ms/step - loss: 0.2912 - accuracy: 0.8795 - val_loss: 0.3378 - val_accuracy: 0.8525\n",
            "Epoch 5/6\n",
            "625/625 [==============================] - 2s 3ms/step - loss: 0.2714 - accuracy: 0.8839 - val_loss: 0.3410 - val_accuracy: 0.8496\n",
            "Epoch 6/6\n",
            "625/625 [==============================] - 2s 3ms/step - loss: 0.2655 - accuracy: 0.8862 - val_loss: 0.3429 - val_accuracy: 0.8495\n",
            "157/157 [==============================] - 0s 2ms/step - loss: 0.3476 - accuracy: 0.8526\n",
            "Epoch 1/6\n",
            "625/625 [==============================] - 2s 3ms/step - loss: 0.4995 - accuracy: 0.7491 - val_loss: 0.3527 - val_accuracy: 0.8488\n",
            "Epoch 2/6\n",
            "625/625 [==============================] - 2s 3ms/step - loss: 0.3177 - accuracy: 0.8664 - val_loss: 0.3400 - val_accuracy: 0.8504\n",
            "Epoch 3/6\n",
            "625/625 [==============================] - 2s 3ms/step - loss: 0.2952 - accuracy: 0.8738 - val_loss: 0.3460 - val_accuracy: 0.8490\n",
            "Epoch 4/6\n",
            "625/625 [==============================] - 2s 3ms/step - loss: 0.2830 - accuracy: 0.8795 - val_loss: 0.3367 - val_accuracy: 0.8522\n",
            "Epoch 5/6\n",
            "625/625 [==============================] - 2s 3ms/step - loss: 0.2612 - accuracy: 0.8915 - val_loss: 0.3486 - val_accuracy: 0.8443\n",
            "Epoch 6/6\n",
            "625/625 [==============================] - 2s 3ms/step - loss: 0.2494 - accuracy: 0.8960 - val_loss: 0.3566 - val_accuracy: 0.8466\n",
            "157/157 [==============================] - 0s 2ms/step - loss: 0.3421 - accuracy: 0.8546\n",
            "Epoch 1/6\n",
            "625/625 [==============================] - 3s 3ms/step - loss: 0.4869 - accuracy: 0.7610 - val_loss: 0.3407 - val_accuracy: 0.8535\n",
            "Epoch 2/6\n",
            "625/625 [==============================] - 2s 3ms/step - loss: 0.3064 - accuracy: 0.8725 - val_loss: 0.3393 - val_accuracy: 0.8524\n",
            "Epoch 3/6\n",
            "625/625 [==============================] - 2s 3ms/step - loss: 0.2878 - accuracy: 0.8820 - val_loss: 0.3448 - val_accuracy: 0.8487\n",
            "Epoch 4/6\n",
            "625/625 [==============================] - 2s 3ms/step - loss: 0.2689 - accuracy: 0.8874 - val_loss: 0.3496 - val_accuracy: 0.8485\n",
            "Epoch 5/6\n",
            "625/625 [==============================] - 2s 3ms/step - loss: 0.2311 - accuracy: 0.9056 - val_loss: 0.3847 - val_accuracy: 0.8413\n",
            "Epoch 6/6\n",
            "625/625 [==============================] - 2s 3ms/step - loss: 0.2065 - accuracy: 0.9181 - val_loss: 0.3963 - val_accuracy: 0.8384\n",
            "157/157 [==============================] - 0s 2ms/step - loss: 0.3925 - accuracy: 0.8438\n",
            "Epoch 1/6\n",
            "625/625 [==============================] - 2s 3ms/step - loss: 0.4914 - accuracy: 0.7657 - val_loss: 0.3390 - val_accuracy: 0.8546\n",
            "Epoch 2/6\n",
            "625/625 [==============================] - 2s 3ms/step - loss: 0.3103 - accuracy: 0.8735 - val_loss: 0.3357 - val_accuracy: 0.8532\n",
            "Epoch 3/6\n",
            "625/625 [==============================] - 2s 3ms/step - loss: 0.3010 - accuracy: 0.8736 - val_loss: 0.3459 - val_accuracy: 0.8472\n",
            "Epoch 4/6\n",
            "625/625 [==============================] - 2s 3ms/step - loss: 0.2855 - accuracy: 0.8793 - val_loss: 0.3371 - val_accuracy: 0.8543\n",
            "Epoch 5/6\n",
            "625/625 [==============================] - 2s 3ms/step - loss: 0.2581 - accuracy: 0.8892 - val_loss: 0.3461 - val_accuracy: 0.8494\n",
            "Epoch 6/6\n",
            "625/625 [==============================] - 2s 3ms/step - loss: 0.2444 - accuracy: 0.8988 - val_loss: 0.3595 - val_accuracy: 0.8523\n",
            "157/157 [==============================] - 0s 2ms/step - loss: 0.3447 - accuracy: 0.8578\n",
            "Epoch 1/6\n",
            "625/625 [==============================] - 2s 3ms/step - loss: 0.4948 - accuracy: 0.7468 - val_loss: 0.3388 - val_accuracy: 0.8544\n",
            "Epoch 2/6\n",
            "625/625 [==============================] - 2s 3ms/step - loss: 0.3098 - accuracy: 0.8716 - val_loss: 0.3364 - val_accuracy: 0.8533\n",
            "Epoch 3/6\n",
            "625/625 [==============================] - 2s 3ms/step - loss: 0.2946 - accuracy: 0.8770 - val_loss: 0.3439 - val_accuracy: 0.8467\n",
            "Epoch 4/6\n",
            "625/625 [==============================] - 2s 3ms/step - loss: 0.2718 - accuracy: 0.8864 - val_loss: 0.3410 - val_accuracy: 0.8487\n",
            "Epoch 5/6\n",
            "625/625 [==============================] - 2s 3ms/step - loss: 0.2406 - accuracy: 0.9000 - val_loss: 0.3477 - val_accuracy: 0.8462\n",
            "Epoch 6/6\n",
            "625/625 [==============================] - 2s 3ms/step - loss: 0.2142 - accuracy: 0.9135 - val_loss: 0.3872 - val_accuracy: 0.8454\n",
            "157/157 [==============================] - 0s 2ms/step - loss: 0.3970 - accuracy: 0.8428\n",
            "Epoch 1/6\n",
            "625/625 [==============================] - 2s 3ms/step - loss: 0.4849 - accuracy: 0.7580 - val_loss: 0.3480 - val_accuracy: 0.8520\n",
            "Epoch 2/6\n",
            "625/625 [==============================] - 2s 3ms/step - loss: 0.3093 - accuracy: 0.8707 - val_loss: 0.3363 - val_accuracy: 0.8539\n",
            "Epoch 3/6\n",
            "625/625 [==============================] - 2s 3ms/step - loss: 0.2974 - accuracy: 0.8741 - val_loss: 0.3456 - val_accuracy: 0.8478\n",
            "Epoch 4/6\n",
            "625/625 [==============================] - 2s 3ms/step - loss: 0.2841 - accuracy: 0.8837 - val_loss: 0.3393 - val_accuracy: 0.8519\n",
            "Epoch 5/6\n",
            "625/625 [==============================] - 2s 3ms/step - loss: 0.2558 - accuracy: 0.8940 - val_loss: 0.3464 - val_accuracy: 0.8464\n",
            "Epoch 6/6\n",
            "625/625 [==============================] - 2s 3ms/step - loss: 0.2379 - accuracy: 0.9045 - val_loss: 0.3600 - val_accuracy: 0.8445\n",
            "157/157 [==============================] - 0s 2ms/step - loss: 0.3588 - accuracy: 0.8502\n",
            "Epoch 1/6\n",
            "625/625 [==============================] - 2s 3ms/step - loss: 0.5025 - accuracy: 0.7446 - val_loss: 0.3562 - val_accuracy: 0.8453\n",
            "Epoch 2/6\n",
            "625/625 [==============================] - 2s 3ms/step - loss: 0.3201 - accuracy: 0.8679 - val_loss: 0.3391 - val_accuracy: 0.8517\n",
            "Epoch 3/6\n",
            "625/625 [==============================] - 2s 3ms/step - loss: 0.3002 - accuracy: 0.8733 - val_loss: 0.3447 - val_accuracy: 0.8478\n",
            "Epoch 4/6\n",
            "625/625 [==============================] - 2s 3ms/step - loss: 0.2853 - accuracy: 0.8809 - val_loss: 0.3377 - val_accuracy: 0.8490\n",
            "Epoch 5/6\n",
            "625/625 [==============================] - 2s 3ms/step - loss: 0.2612 - accuracy: 0.8904 - val_loss: 0.3490 - val_accuracy: 0.8478\n",
            "Epoch 6/6\n",
            "625/625 [==============================] - 2s 3ms/step - loss: 0.2326 - accuracy: 0.9041 - val_loss: 0.3646 - val_accuracy: 0.8446\n",
            "157/157 [==============================] - 0s 2ms/step - loss: 0.3532 - accuracy: 0.8530\n",
            "Epoch 1/6\n",
            "625/625 [==============================] - 2s 3ms/step - loss: 0.4813 - accuracy: 0.7536 - val_loss: 0.3424 - val_accuracy: 0.8525\n",
            "Epoch 2/6\n",
            "625/625 [==============================] - 2s 3ms/step - loss: 0.3086 - accuracy: 0.8719 - val_loss: 0.3384 - val_accuracy: 0.8526\n",
            "Epoch 3/6\n",
            "625/625 [==============================] - 2s 3ms/step - loss: 0.2877 - accuracy: 0.8784 - val_loss: 0.3428 - val_accuracy: 0.8500\n",
            "Epoch 4/6\n",
            "625/625 [==============================] - 2s 3ms/step - loss: 0.2693 - accuracy: 0.8872 - val_loss: 0.3443 - val_accuracy: 0.8505\n",
            "Epoch 5/6\n",
            "625/625 [==============================] - 2s 3ms/step - loss: 0.2335 - accuracy: 0.9027 - val_loss: 0.3710 - val_accuracy: 0.8442\n",
            "Epoch 6/6\n",
            "625/625 [==============================] - 2s 3ms/step - loss: 0.2048 - accuracy: 0.9214 - val_loss: 0.3856 - val_accuracy: 0.8461\n",
            "157/157 [==============================] - 0s 2ms/step - loss: 0.3894 - accuracy: 0.8446\n",
            "Epoch 1/6\n",
            "625/625 [==============================] - 2s 3ms/step - loss: 0.4863 - accuracy: 0.7623 - val_loss: 0.3375 - val_accuracy: 0.8548\n",
            "Epoch 2/6\n",
            "625/625 [==============================] - 2s 3ms/step - loss: 0.3086 - accuracy: 0.8749 - val_loss: 0.3364 - val_accuracy: 0.8544\n",
            "Epoch 3/6\n",
            "625/625 [==============================] - 2s 3ms/step - loss: 0.2970 - accuracy: 0.8769 - val_loss: 0.3469 - val_accuracy: 0.8490\n",
            "Epoch 4/6\n",
            "625/625 [==============================] - 2s 3ms/step - loss: 0.2767 - accuracy: 0.8839 - val_loss: 0.3395 - val_accuracy: 0.8510\n",
            "Epoch 5/6\n",
            "625/625 [==============================] - 2s 3ms/step - loss: 0.2451 - accuracy: 0.8971 - val_loss: 0.3551 - val_accuracy: 0.8464\n",
            "Epoch 6/6\n",
            "625/625 [==============================] - 2s 3ms/step - loss: 0.2269 - accuracy: 0.9073 - val_loss: 0.3688 - val_accuracy: 0.8449\n",
            "157/157 [==============================] - 0s 2ms/step - loss: 0.3556 - accuracy: 0.8514\n",
            "Epoch 1/6\n",
            "625/625 [==============================] - 2s 3ms/step - loss: 0.4935 - accuracy: 0.7439 - val_loss: 0.3396 - val_accuracy: 0.8521\n",
            "Epoch 2/6\n",
            "625/625 [==============================] - 2s 3ms/step - loss: 0.3122 - accuracy: 0.8691 - val_loss: 0.3355 - val_accuracy: 0.8542\n",
            "Epoch 3/6\n",
            "625/625 [==============================] - 2s 3ms/step - loss: 0.2961 - accuracy: 0.8761 - val_loss: 0.3433 - val_accuracy: 0.8466\n",
            "Epoch 4/6\n",
            "625/625 [==============================] - 2s 3ms/step - loss: 0.2766 - accuracy: 0.8850 - val_loss: 0.3388 - val_accuracy: 0.8509\n",
            "Epoch 5/6\n",
            "625/625 [==============================] - 2s 3ms/step - loss: 0.2470 - accuracy: 0.8970 - val_loss: 0.3531 - val_accuracy: 0.8460\n",
            "Epoch 6/6\n",
            "625/625 [==============================] - 2s 3ms/step - loss: 0.2163 - accuracy: 0.9131 - val_loss: 0.3938 - val_accuracy: 0.8392\n",
            "157/157 [==============================] - 0s 2ms/step - loss: 0.4006 - accuracy: 0.8378\n",
            "Epoch 1/6\n",
            "625/625 [==============================] - 2s 3ms/step - loss: 0.4767 - accuracy: 0.7680 - val_loss: 0.3520 - val_accuracy: 0.8454\n",
            "Epoch 2/6\n",
            "625/625 [==============================] - 2s 3ms/step - loss: 0.3074 - accuracy: 0.8721 - val_loss: 0.3325 - val_accuracy: 0.8546\n",
            "Epoch 3/6\n",
            "625/625 [==============================] - 2s 3ms/step - loss: 0.2877 - accuracy: 0.8767 - val_loss: 0.3458 - val_accuracy: 0.8514\n",
            "Epoch 4/6\n",
            "625/625 [==============================] - 2s 3ms/step - loss: 0.2668 - accuracy: 0.8889 - val_loss: 0.3459 - val_accuracy: 0.8485\n",
            "Epoch 5/6\n",
            "625/625 [==============================] - 2s 3ms/step - loss: 0.2286 - accuracy: 0.9046 - val_loss: 0.3751 - val_accuracy: 0.8418\n",
            "Epoch 6/6\n",
            "625/625 [==============================] - 2s 3ms/step - loss: 0.2033 - accuracy: 0.9149 - val_loss: 0.4102 - val_accuracy: 0.8354\n",
            "157/157 [==============================] - 0s 2ms/step - loss: 0.4007 - accuracy: 0.8408\n",
            "Epoch 1/6\n",
            "625/625 [==============================] - 2s 3ms/step - loss: 0.4922 - accuracy: 0.7545 - val_loss: 0.3577 - val_accuracy: 0.8461\n",
            "Epoch 2/6\n",
            "625/625 [==============================] - 2s 3ms/step - loss: 0.3209 - accuracy: 0.8659 - val_loss: 0.3430 - val_accuracy: 0.8499\n",
            "Epoch 3/6\n",
            "625/625 [==============================] - 2s 3ms/step - loss: 0.3044 - accuracy: 0.8710 - val_loss: 0.3503 - val_accuracy: 0.8470\n",
            "Epoch 4/6\n",
            "625/625 [==============================] - 2s 3ms/step - loss: 0.2905 - accuracy: 0.8797 - val_loss: 0.3405 - val_accuracy: 0.8506\n",
            "Epoch 5/6\n",
            "625/625 [==============================] - 2s 3ms/step - loss: 0.2599 - accuracy: 0.8944 - val_loss: 0.3489 - val_accuracy: 0.8473\n",
            "Epoch 6/6\n",
            "625/625 [==============================] - 2s 3ms/step - loss: 0.2318 - accuracy: 0.9068 - val_loss: 0.3646 - val_accuracy: 0.8443\n",
            "157/157 [==============================] - 0s 2ms/step - loss: 0.3474 - accuracy: 0.8538\n",
            "Epoch 1/6\n",
            "782/782 [==============================] - 3s 3ms/step - loss: 0.6629 - accuracy: 0.5990 - val_loss: 0.4707 - val_accuracy: 0.8030\n",
            "Epoch 2/6\n",
            "782/782 [==============================] - 3s 3ms/step - loss: 0.4299 - accuracy: 0.8222 - val_loss: 0.3709 - val_accuracy: 0.8447\n",
            "Epoch 3/6\n",
            "782/782 [==============================] - 3s 3ms/step - loss: 0.3423 - accuracy: 0.8592 - val_loss: 0.3486 - val_accuracy: 0.8510\n",
            "Epoch 4/6\n",
            "782/782 [==============================] - 2s 3ms/step - loss: 0.3220 - accuracy: 0.8644 - val_loss: 0.3393 - val_accuracy: 0.8554\n",
            "Epoch 5/6\n",
            "782/782 [==============================] - 2s 3ms/step - loss: 0.3096 - accuracy: 0.8733 - val_loss: 0.3375 - val_accuracy: 0.8572\n",
            "Epoch 6/6\n",
            "782/782 [==============================] - 3s 3ms/step - loss: 0.3010 - accuracy: 0.8758 - val_loss: 0.3356 - val_accuracy: 0.8584\n"
          ],
          "name": "stdout"
        },
        {
          "output_type": "execute_result",
          "data": {
            "text/plain": [
              "GridSearchCV(cv=None, error_score=nan,\n",
              "             estimator=<tensorflow.python.keras.wrappers.scikit_learn.KerasRegressor object at 0x7fbc967ab7d0>,\n",
              "             iid='deprecated', n_jobs=None,\n",
              "             param_grid={'learning_rate': [0.0001, 0.001],\n",
              "                         'n_units': [12, 16, 20]},\n",
              "             pre_dispatch='2*n_jobs', refit=True, return_train_score=False,\n",
              "             scoring=None, verbose=0)"
            ]
          },
          "metadata": {
            "tags": []
          },
          "execution_count": 23
        }
      ]
    },
    {
      "cell_type": "markdown",
      "metadata": {
        "id": "aadmkiOoyM94"
      },
      "source": [
        "Print the best hyper-parameters, and evealuate the best model on the test set."
      ]
    },
    {
      "cell_type": "code",
      "metadata": {
        "id": "b0nL5OZkylNX",
        "colab": {
          "base_uri": "https://localhost:8080/"
        },
        "outputId": "62fab4d3-7e3c-45f6-f6b4-26eea8ed825a"
      },
      "source": [
        "print(grid_search.best_params_)\n",
        "\n",
        "model = grid_search.best_estimator_.model\n",
        "model.evaluate(X_test, y_test)"
      ],
      "execution_count": 24,
      "outputs": [
        {
          "output_type": "stream",
          "text": [
            "{'learning_rate': 0.0001, 'n_units': 20}\n",
            "391/391 [==============================] - 1s 2ms/step - loss: 0.3176 - accuracy: 0.8652\n"
          ],
          "name": "stdout"
        },
        {
          "output_type": "execute_result",
          "data": {
            "text/plain": [
              "[0.3175807297229767, 0.8651999831199646]"
            ]
          },
          "metadata": {
            "tags": []
          },
          "execution_count": 24
        }
      ]
    }
  ]
}