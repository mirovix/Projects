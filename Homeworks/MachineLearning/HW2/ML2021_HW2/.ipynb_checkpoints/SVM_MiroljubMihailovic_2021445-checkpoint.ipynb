{
 "cells": [
  {
   "cell_type": "markdown",
   "metadata": {},
   "source": [
    "# SVM for classification, without and with kernels\n",
    "\n",
    "In this notebook we are going to explore the use of Support Vector Machines (SVMs) for image classification. We are going to use the famous MNIST dataset, that is a dataset of handwritten digits. We get the data from mldata.org, that is a public repository for machine learning data.\n",
    "\n",
    "The dataset consists of 70,000 images of handwritten digits (i.e., 0, 1, ... 9). Each image is 28 pixels by 28 pixels and we can think of it as a vector of 28x28 = 784 numbers. Each number is an integer between 0 and 255. For each image we have the corresponding label (i.e., 0, 1, ..., 9)."
   ]
  },
  {
   "cell_type": "code",
   "execution_count": 1,
   "metadata": {},
   "outputs": [],
   "source": [
    "#load the required packages\n",
    "\n",
    "%matplotlib inline  \n",
    "\n",
    "import numpy as np\n",
    "import matplotlib.pyplot as plt\n",
    "\n",
    "import sklearn\n",
    "from sklearn.datasets import fetch_openml"
   ]
  },
  {
   "cell_type": "code",
   "execution_count": 2,
   "metadata": {},
   "outputs": [],
   "source": [
    "#fix your ID (\"numero di matricola\") and the seed for random generator\n",
    "ID = 2021445\n",
    "np.random.seed(ID)"
   ]
  },
  {
   "cell_type": "markdown",
   "metadata": {},
   "source": [
    "Now let's load the dataset. 'data' contains the input, 'target' contains the label. We normalize the data by dividing each value by 255 so that each value is in [0,1]"
   ]
  },
  {
   "cell_type": "code",
   "execution_count": 3,
   "metadata": {},
   "outputs": [],
   "source": [
    "#load the MNIST dataset and let's normalize the features so that each value is in [0,1]\n",
    "mnist = fetch_openml('mnist_784', version=1)\n",
    "# rescale the data\n",
    "X, y = mnist.data / 255., mnist.target"
   ]
  },
  {
   "cell_type": "markdown",
   "metadata": {},
   "source": [
    "Now split into training and test. We keep 500 samples in the training set. Make sure that each label is present at least 10 times\n",
    "in training. If it is not, then keep adding permutations to the initial data until this \n",
    "happens.\n",
    "\n",
    "**IMPORTANT**: if you cannot run the SVM with 500 samples or 1000 samples (see below), try with a smaller number of samples (e.g. 200 here and 400 below)."
   ]
  },
  {
   "cell_type": "code",
   "execution_count": 4,
   "metadata": {},
   "outputs": [
    {
     "name": "stdout",
     "output_type": "stream",
     "text": [
      "Labels and frequencies in training dataset: \n"
     ]
    },
    {
     "data": {
      "text/plain": [
       "(array(['0', '1', '2', '3', '4', '5', '6', '7', '8', '9'], dtype=object),\n",
       " array([60, 52, 40, 50, 55, 47, 48, 55, 39, 54], dtype=int64))"
      ]
     },
     "execution_count": 4,
     "metadata": {},
     "output_type": "execute_result"
    }
   ],
   "source": [
    "#random permute the data and split into training and test taking the first 500\n",
    "#data samples as training and the rests as test\n",
    "permutation = np.random.permutation(X.shape[0])\n",
    "\n",
    "X = X[permutation]\n",
    "y = y[permutation]\n",
    "\n",
    "m_training = 500\n",
    "\n",
    "X_train, X_test = X[:m_training], X[m_training:]\n",
    "y_train, y_test = y[:m_training], y[m_training:]\n",
    "\n",
    "print(\"Labels and frequencies in training dataset: \")\n",
    "np.unique(y_train, return_counts = True)"
   ]
  },
  {
   "cell_type": "markdown",
   "metadata": {},
   "source": [
    "We now provide a function to print an image in a dataset, the corresponding true label, and the index of the image in the dataset."
   ]
  },
  {
   "cell_type": "code",
   "execution_count": 5,
   "metadata": {},
   "outputs": [],
   "source": [
    "#function for plotting a digit and printing the corresponding labe\n",
    "def plot_digit(X_matrix, labels, index):\n",
    "    print(\"INPUT:\")\n",
    "    plt.imshow(\n",
    "        X_matrix[index].reshape(28,28),\n",
    "        cmap          = plt.cm.gray_r,\n",
    "        interpolation = \"nearest\"\n",
    "    )\n",
    "    plt.show()\n",
    "    print(\"LABEL: %s\" % labels[index])\n",
    "    return"
   ]
  },
  {
   "cell_type": "markdown",
   "metadata": {},
   "source": [
    "As an example, let's print the 100-th image in X_train and the 40,000-th image in X_test and their true labels."
   ]
  },
  {
   "cell_type": "code",
   "execution_count": 6,
   "metadata": {},
   "outputs": [
    {
     "name": "stdout",
     "output_type": "stream",
     "text": [
      "INPUT:\n"
     ]
    },
    {
     "data": {
      "image/png": "[encoded data removed]",
      "text/plain": [
       "<Figure size 432x288 with 1 Axes>"
      ]
     },
     "metadata": {
      "needs_background": "light"
     },
     "output_type": "display_data"
    },
    {
     "name": "stdout",
     "output_type": "stream",
     "text": [
      "LABEL: 6\n",
      "INPUT:\n"
     ]
    },
    {
     "data": {
      "image/png": "[encoded data removed]",
      "text/plain": [
       "<Figure size 432x288 with 1 Axes>"
      ]
     },
     "metadata": {
      "needs_background": "light"
     },
     "output_type": "display_data"
    },
    {
     "name": "stdout",
     "output_type": "stream",
     "text": [
      "LABEL: 0\n"
     ]
    }
   ],
   "source": [
    "#let's try the plotting function\n",
    "plot_digit(X_train,y_train,100)\n",
    "plot_digit(X_test,y_test,40000)"
   ]
  },
  {
   "cell_type": "markdown",
   "metadata": {},
   "source": [
    "## TO DO 1\n",
    "Run SVM with cross validation to pick a kernel and values of parameters. Use a 5-fold cross-validation to pick the best kernel and choice of parameters. We provide some potential choice for parameters, but change the grid if needed (e.g., it takes too long). For the SVM for classification use SVC from sklearn.svm; for the grid search we suggest you use GridSearchCV from sklearn.model_selection, but you can implement your own cross-validation for model selection if you prefer.\n",
    "\n",
    "Print the best parameters used as well as the score obtained by the best model"
   ]
  },
  {
   "cell_type": "code",
   "execution_count": 7,
   "metadata": {},
   "outputs": [
    {
     "name": "stdout",
     "output_type": "stream",
     "text": [
      "RESULTS FOR LINEAR KERNEL\n",
      "\n",
      "Best parameters set found:\n",
      "{'C': 1}\n",
      "Score with best parameters:\n",
      "0.85\n",
      "\n",
      "All scores on the grid:\n",
      "0.850 - {'C': 1}\n",
      "0.850 - {'C': 10}\n",
      "0.850 - {'C': 100}\n",
      "\n",
      "RESULTS FOR POLY DEGREE=2 KERNEL\n",
      "\n",
      "Best parameters set found:\n",
      "{'C': 1, 'gamma': 0.1}\n",
      "Score with best parameters:\n",
      "0.868\n",
      "\n",
      "All scores on the grid:\n",
      "0.838 - {'C': 1, 'gamma': 0.01}\n",
      "0.868 - {'C': 1, 'gamma': 0.1}\n",
      "0.868 - {'C': 1, 'gamma': 1.0}\n",
      "0.868 - {'C': 10, 'gamma': 0.01}\n",
      "0.868 - {'C': 10, 'gamma': 0.1}\n",
      "0.868 - {'C': 10, 'gamma': 1.0}\n",
      "0.868 - {'C': 100, 'gamma': 0.01}\n",
      "0.868 - {'C': 100, 'gamma': 0.1}\n",
      "0.868 - {'C': 100, 'gamma': 1.0}\n",
      "\n",
      "RESULTS FOR rbf KERNEL\n",
      "\n",
      "Best parameters set found:\n",
      "{'C': 10, 'gamma': 0.01}\n",
      "Score with best parameters:\n",
      "0.8880000000000001\n",
      "\n",
      "All scores on the grid:\n",
      "0.886 - {'C': 1, 'gamma': 0.01}\n",
      "0.420 - {'C': 1, 'gamma': 0.1}\n",
      "0.090 - {'C': 1, 'gamma': 1.0}\n",
      "0.888 - {'C': 10, 'gamma': 0.01}\n",
      "0.462 - {'C': 10, 'gamma': 0.1}\n",
      "0.090 - {'C': 10, 'gamma': 1.0}\n",
      "0.888 - {'C': 100, 'gamma': 0.01}\n",
      "0.462 - {'C': 100, 'gamma': 0.1}\n",
      "0.090 - {'C': 100, 'gamma': 1.0}\n"
     ]
    }
   ],
   "source": [
    "#import SVC\n",
    "from sklearn.svm import SVC\n",
    "#import for Cross-Validation\n",
    "from sklearn.model_selection import GridSearchCV\n",
    "from sklearn.model_selection import KFold\n",
    "\n",
    "# parameters for linear SVM\n",
    "parameters = {'C': [1, 10, 100]}\n",
    "#run linear SVM\n",
    "linear_SVM = SVC(kernel='linear')\n",
    "\n",
    "#find best model using 5-fold CV \n",
    "#and train it using all the training data\n",
    "\n",
    "cv = KFold(n_splits=5)\n",
    "grid = GridSearchCV(linear_SVM, parameters, cv=cv).fit(X_train, y_train)\n",
    "\n",
    "\n",
    "print ('RESULTS FOR LINEAR KERNEL\\n')\n",
    "\n",
    "print(\"Best parameters set found:\")\n",
    "print(grid.best_params_)\n",
    "\n",
    "print(\"Score with best parameters:\")\n",
    "print(grid.best_score_)\n",
    "\n",
    "print(\"\\nAll scores on the grid:\")\n",
    "for a,b in zip(grid.cv_results_['mean_test_score'], grid.cv_results_['params']):\n",
    "    print(\"%0.3f - %r\"% (a, b))\n",
    "\n",
    "# parameters for poly with degree 2 kernel\n",
    "parameters = {'C': [1, 10, 100],'gamma':[0.01,0.1,1.]}\n",
    "\n",
    "#run SVM with poly of degree 2 kernel\n",
    "poly2_SVM = SVC(kernel='poly',degree=2)\n",
    "\n",
    "#DO THE SAME AS ABOVE FOR POLYNOMIAL KERNEL WITH DEGREE=2\n",
    "\n",
    "grid = GridSearchCV(poly2_SVM, parameters, cv=cv).fit(X_train, y_train)\n",
    "\n",
    "\n",
    "print ('\\nRESULTS FOR POLY DEGREE=2 KERNEL\\n')\n",
    "\n",
    "print(\"Best parameters set found:\")\n",
    "print(grid.best_params_)\n",
    "\n",
    "print(\"Score with best parameters:\")\n",
    "print(grid.best_score_)\n",
    "\n",
    "print(\"\\nAll scores on the grid:\")\n",
    "for a,b in zip(grid.cv_results_['mean_test_score'], grid.cv_results_['params']):\n",
    "    print(\"%0.3f - %r\"% (a, b))\n",
    "\n",
    "    \n",
    "    \n",
    "    \n",
    "# parameters for rbf SVM\n",
    "parameters = {'C': [1, 10, 100],'gamma':[0.01,0.1,1.]}\n",
    "\n",
    "#run SVM with rbf kernel\n",
    "rbf_SVM = SVC(kernel='rbf')\n",
    "\n",
    "#DO THE SAME AS ABOVE FOR RBF KERNEL\n",
    "\n",
    "grid = GridSearchCV(rbf_SVM, parameters, cv=cv).fit(X_train, y_train)\n",
    "\n",
    "print ('\\nRESULTS FOR rbf KERNEL\\n')\n",
    "\n",
    "print(\"Best parameters set found:\")\n",
    "print(grid.best_params_)\n",
    "\n",
    "print(\"Score with best parameters:\")\n",
    "print(grid.best_score_)\n",
    "\n",
    "print(\"\\nAll scores on the grid:\")\n",
    "for a,b in zip(grid.cv_results_['mean_test_score'], grid.cv_results_['params']):\n",
    "    print(\"%0.3f - %r\"% (a, b))"
   ]
  },
  {
   "cell_type": "markdown",
   "metadata": {},
   "source": [
    "## TO DO 2\n",
    "For the \"best\" SVM kernel and choice of parameters from above, train the model on the entire training set and measure the training error. Also make predictions on the test set and measure the test error. Print the training and the test error."
   ]
  },
  {
   "cell_type": "code",
   "execution_count": 8,
   "metadata": {},
   "outputs": [
    {
     "name": "stdout",
     "output_type": "stream",
     "text": [
      "Best SVM training error: 0.000000\n",
      "Best SVM test error: 0.110201\n"
     ]
    }
   ],
   "source": [
    "from sklearn import metrics\n",
    "\n",
    "#get training and test error for the best SVM model from CV\n",
    "best_SVM = SVC(kernel='rbf', C=10, gamma=0.01) #rbf KERNEL - 'C': 10, 'gamma': 0.01\n",
    "\n",
    "# fit the model on the entire training set\n",
    "best_SVM.fit(X_train, y_train)\n",
    "y_pred_best_svm = best_SVM.predict(X_train)\n",
    "\n",
    "#get the training and test error\n",
    "training_error = 1. - best_SVM.score(X_train,y_train)\n",
    "test_error = 1. - best_SVM.score(X_test,y_test)\n",
    "\n",
    "\n",
    "print (\"Best SVM training error: %f\" % training_error)\n",
    "print (\"Best SVM test error: %f\" % test_error)"
   ]
  },
  {
   "cell_type": "markdown",
   "metadata": {},
   "source": [
    "## Use logistic regression for comparison\n",
    "\n",
    "## TO DO 3\n",
    "\n",
    "Just for comparison let's also use logistic regression, first with the default values of the parameter for regularization and then with cross-validation to fix the value of the parameter. For cross validation, use 5-fold cross validation and the default values of the regularization parameters for the function linear_model.LogisticRegressionCV(...)"
   ]
  },
  {
   "cell_type": "code",
   "execution_count": 9,
   "metadata": {},
   "outputs": [
    {
     "name": "stdout",
     "output_type": "stream",
     "text": [
      "Best logistic regression training error: 0.000000\n",
      "Best logistic regression test error: 0.218129\n",
      "Best logistic regression training error: 0.026000\n",
      "Best logistic regression test error: 0.163338\n"
     ]
    }
   ],
   "source": [
    "from sklearn import linear_model\n",
    "from sklearn.linear_model import LogisticRegressionCV\n",
    "from sklearn.preprocessing import StandardScaler\n",
    "\n",
    "lr = linear_model.LogisticRegression(solver='liblinear', max_iter = 300)\n",
    "# fit the model on the training data\n",
    "\n",
    "#Normalization data\n",
    "scaler = StandardScaler()\n",
    "X_scaled_data_train = scaler.fit_transform(X_train)\n",
    "X_scaled_data_test = scaler.fit_transform(X_test)\n",
    "\n",
    "#learn from training set\n",
    "lr.fit(X_scaled_data_train, y_train)\n",
    "\n",
    "\n",
    "#compute training and test error for model above\n",
    "training_error  = 1 - lr.score(X_scaled_data_train, y_train)\n",
    "test_error = 1 - lr.score(X_scaled_data_test, y_test)\n",
    "\n",
    "print (\"Best logistic regression training error: %f\" % training_error)\n",
    "print (\"Best logistic regression test error: %f\" % test_error)\n",
    "\n",
    "#logistic regression with 5-fold CV: you can use use linear_model.LogisticRegressionCV\n",
    "# use 5-fold CV to find the best choice of the parameter, than train\n",
    "# the model on the entire training set\n",
    "lr_cv = LogisticRegressionCV(cv=cv, max_iter = 300).fit(X_scaled_data_train, y_train)\n",
    "lr_cv_y_pred = lr_cv.predict(X_scaled_data_train)\n",
    "training_error_cv = 1. - lr_cv.score(X_scaled_data_train,y_train)\n",
    "test_error_cv = 1. - lr_cv.score(X_scaled_data_test,y_test)\n",
    "\n",
    "print (\"Best logistic regression training error: %f\" % training_error_cv)\n",
    "print (\"Best logistic regression test error: %f\" % test_error_cv)\n",
    "#print (\"Best Params :%s\" %lr_cv.get_params())"
   ]
  },
  {
   "cell_type": "markdown",
   "metadata": {},
   "source": [
    "## TO DO 4 \n",
    "Compare and comment the results from SVM and logistic regression.\n",
    "\n",
    "The best result is obtained with SVM (kernel = RBF, gamma = 0.01 and C = 10) in fact the test error is lower than in the other two cases.\n",
    "I also note that in all cases the training error is very similar (close to zero)."
   ]
  },
  {
   "cell_type": "markdown",
   "metadata": {},
   "source": [
    "## TO DO 5\n",
    "Write the code that finds and plots a digit that is missclassified by logistic regression (optimized for the regularization parameter) and correctly classified by the \"best\" SVM."
   ]
  },
  {
   "cell_type": "code",
   "execution_count": 10,
   "metadata": {},
   "outputs": [
    {
     "name": "stdout",
     "output_type": "stream",
     "text": [
      "INPUT:\n"
     ]
    },
    {
     "data": {
      "image/png": "[encoded data removed]",
      "text/plain": [
       "<Figure size 432x288 with 1 Axes>"
      ]
     },
     "metadata": {
      "needs_background": "light"
     },
     "output_type": "display_data"
    },
    {
     "name": "stdout",
     "output_type": "stream",
     "text": [
      "LABEL: 2\n",
      "Prediction best SVM :  2\n",
      "Prediction LogisticRegressionCV :  4\n",
      "Real value :  2\n"
     ]
    }
   ],
   "source": [
    "#y_pred_best_svm -> prediction by best SVM\n",
    "#lr_cv_y_pred -> prediction by LogisticRegressionCV\n",
    "#y_test -> real value\n",
    "\n",
    "for i in range(y_train.shape[0]):\n",
    "    if(int(y_pred_best_svm[i])-int(y_train[i])==0) and (int(lr_cv_y_pred[i])-int(y_train[i])!=0): \n",
    "        plot_digit(X_train,y_train,i)\n",
    "        print(\"Prediction best SVM : \",y_pred_best_svm[i])\n",
    "        print(\"Prediction LogisticRegressionCV : \",lr_cv_y_pred[i])\n",
    "        print(\"Real value : \",y_train[i])\n",
    "        break\n",
    "    "
   ]
  },
  {
   "cell_type": "markdown",
   "metadata": {},
   "source": [
    "## More data\n",
    "Now let's do the same but using 1000 data points for training. \n",
    "\n",
    "## TO DO 6\n",
    "Repeat the entire analysis above using 1000 samples. Of course you can copy the code from above."
   ]
  },
  {
   "cell_type": "code",
   "execution_count": 11,
   "metadata": {},
   "outputs": [
    {
     "name": "stdout",
     "output_type": "stream",
     "text": [
      "RESULTS FOR LINEAR KERNEL\n",
      "\n",
      "Best parameters set found:\n",
      "{'C': 1}\n",
      "Score with best parameters:\n",
      "0.859\n",
      "\n",
      "All scores on the grid:\n",
      "0.859 - {'C': 1}\n",
      "0.859 - {'C': 10}\n",
      "0.859 - {'C': 100}\n",
      "\n",
      "RESULTS FOR POLY DEGREE=2 KERNEL\n",
      "\n",
      "Best parameters set found:\n",
      "{'C': 10, 'gamma': 0.01}\n",
      "Score with best parameters:\n",
      "0.892\n",
      "\n",
      "All scores on the grid:\n",
      "0.869 - {'C': 1, 'gamma': 0.01}\n",
      "0.890 - {'C': 1, 'gamma': 0.1}\n",
      "0.890 - {'C': 1, 'gamma': 1.0}\n",
      "0.892 - {'C': 10, 'gamma': 0.01}\n",
      "0.890 - {'C': 10, 'gamma': 0.1}\n",
      "0.890 - {'C': 10, 'gamma': 1.0}\n",
      "0.890 - {'C': 100, 'gamma': 0.01}\n",
      "0.890 - {'C': 100, 'gamma': 0.1}\n",
      "0.890 - {'C': 100, 'gamma': 1.0}\n",
      "\n",
      "RESULTS FOR rbf KERNEL\n",
      "\n",
      "Best parameters set found:\n",
      "{'C': 10, 'gamma': 0.01}\n",
      "Score with best parameters:\n",
      "0.907\n",
      "\n",
      "All scores on the grid:\n",
      "0.890 - {'C': 1, 'gamma': 0.01}\n",
      "0.543 - {'C': 1, 'gamma': 0.1}\n",
      "0.101 - {'C': 1, 'gamma': 1.0}\n",
      "0.907 - {'C': 10, 'gamma': 0.01}\n",
      "0.595 - {'C': 10, 'gamma': 0.1}\n",
      "0.104 - {'C': 10, 'gamma': 1.0}\n",
      "0.907 - {'C': 100, 'gamma': 0.01}\n",
      "0.595 - {'C': 100, 'gamma': 0.1}\n",
      "0.104 - {'C': 100, 'gamma': 1.0}\n",
      "Best SVM training error: 0.000000\n",
      "Best SVM test error: 0.082420\n",
      "Best logistic regression training error: 0.000000\n",
      "Best logistic regression test error: 0.193580\n",
      "Best logistic regression training error: 0.050000\n",
      "Best logistic regression test error: 0.143043\n"
     ]
    }
   ],
   "source": [
    "X = X[permutation]\n",
    "y = y[permutation]\n",
    "m_training = 1000\n",
    "X_train, X_test = X[:m_training], X[m_training:]\n",
    "y_train, y_test = y[:m_training], y[m_training:]\n",
    "np.unique(y_train, return_counts = True)\n",
    "\n",
    "# parameters for linear SVM\n",
    "parameters = {'C': [1, 10, 100]}\n",
    "#run linear SVM\n",
    "linear_SVM = SVC(kernel='linear')\n",
    "\n",
    "#find best model using 5-fold CV \n",
    "#and train it using all the training data\n",
    "\n",
    "cv = KFold(n_splits=5)\n",
    "grid = GridSearchCV(linear_SVM, parameters, cv=cv).fit(X_train, y_train)\n",
    "\n",
    "\n",
    "print ('RESULTS FOR LINEAR KERNEL\\n')\n",
    "\n",
    "print(\"Best parameters set found:\")\n",
    "print(grid.best_params_)\n",
    "\n",
    "print(\"Score with best parameters:\")\n",
    "print(grid.best_score_)\n",
    "\n",
    "print(\"\\nAll scores on the grid:\")\n",
    "for a,b in zip(grid.cv_results_['mean_test_score'], grid.cv_results_['params']):\n",
    "    print(\"%0.3f - %r\"% (a, b))\n",
    "\n",
    "# parameters for poly with degree 2 kernel\n",
    "parameters = {'C': [1, 10, 100],'gamma':[0.01,0.1,1.]}\n",
    "\n",
    "#run SVM with poly of degree 2 kernel\n",
    "poly2_SVM = SVC(kernel='poly',degree=2)\n",
    "\n",
    "#DO THE SAME AS ABOVE FOR POLYNOMIAL KERNEL WITH DEGREE=2\n",
    "\n",
    "grid = GridSearchCV(poly2_SVM, parameters, cv=cv).fit(X_train, y_train)\n",
    "\n",
    "\n",
    "print ('\\nRESULTS FOR POLY DEGREE=2 KERNEL\\n')\n",
    "\n",
    "print(\"Best parameters set found:\")\n",
    "print(grid.best_params_)\n",
    "\n",
    "print(\"Score with best parameters:\")\n",
    "print(grid.best_score_)\n",
    "\n",
    "print(\"\\nAll scores on the grid:\")\n",
    "for a,b in zip(grid.cv_results_['mean_test_score'], grid.cv_results_['params']):\n",
    "    print(\"%0.3f - %r\"% (a, b))\n",
    "\n",
    "    \n",
    "    \n",
    "    \n",
    "# parameters for rbf SVM\n",
    "parameters = {'C': [1, 10, 100],'gamma':[0.01,0.1,1.]}\n",
    "\n",
    "#run SVM with rbf kernel\n",
    "rbf_SVM = SVC(kernel='rbf')\n",
    "\n",
    "#DO THE SAME AS ABOVE FOR RBF KERNEL\n",
    "\n",
    "grid = GridSearchCV(rbf_SVM, parameters, cv=cv).fit(X_train, y_train)\n",
    "\n",
    "print ('\\nRESULTS FOR rbf KERNEL\\n')\n",
    "\n",
    "print(\"Best parameters set found:\")\n",
    "print(grid.best_params_)\n",
    "\n",
    "print(\"Score with best parameters:\")\n",
    "print(grid.best_score_)\n",
    "\n",
    "print(\"\\nAll scores on the grid:\")\n",
    "for a,b in zip(grid.cv_results_['mean_test_score'], grid.cv_results_['params']):\n",
    "    print(\"%0.3f - %r\"% (a, b))\n",
    "    \n",
    "\n",
    "#get training and test error for the best SVM model from CV\n",
    "best_SVM = SVC(kernel='rbf', C=10, gamma=0.01) #rbf KERNEL - 'C': 10, 'gamma': 0.01\n",
    "\n",
    "# fit the model on the entire training set\n",
    "best_SVM.fit(X_train, y_train)\n",
    "y_pred = best_SVM.predict(X_test)\n",
    "\n",
    "#get the training and test error\n",
    "training_error = 1. - best_SVM.score(X_train,y_train)\n",
    "test_error = 1. - best_SVM.score(X_test,y_test)\n",
    "\n",
    "print (\"Best SVM training error: %f\" % training_error)\n",
    "print (\"Best SVM test error: %f\" % test_error)\n",
    "\n",
    "\n",
    "\n",
    "\n",
    "lr = linear_model.LogisticRegression(solver='liblinear', max_iter = 300)\n",
    "# fit the model on the training data\n",
    "\n",
    "#Normalization of data\n",
    "scaler = StandardScaler()\n",
    "X_scaled_data_train = scaler.fit_transform(X_train)\n",
    "X_scaled_data_test = scaler.fit_transform(X_test)\n",
    "\n",
    "#learn from training set\n",
    "lr.fit(X_scaled_data_train, y_train)\n",
    "\n",
    "\n",
    "#compute training and test error for model above\n",
    "training_error  = 1 - lr.score(X_scaled_data_train, y_train)\n",
    "test_error = 1 - lr.score(X_scaled_data_test, y_test)\n",
    "\n",
    "print (\"Best logistic regression training error: %f\" % training_error)\n",
    "print (\"Best logistic regression test error: %f\" % test_error)\n",
    "\n",
    "#logistic regression with 5-fold CV: you can use use linear_model.LogisticRegressionCV\n",
    "# use 5-fold CV to find the best choice of the parameter, than train\n",
    "# the model on the entire training set\n",
    "lr_cv = LogisticRegressionCV(cv=cv, max_iter = 300).fit(X_scaled_data_train, y_train)\n",
    "training_error_cv = 1. - lr_cv.score(X_scaled_data_train,y_train)\n",
    "test_error_cv = 1. - lr_cv.score(X_scaled_data_test,y_test)\n",
    "\n",
    "print (\"Best logistic regression training error: %f\" % training_error_cv)\n",
    "print (\"Best logistic regression test error: %f\" % test_error_cv)"
   ]
  },
  {
   "cell_type": "markdown",
   "metadata": {},
   "source": [
    "## TO DO 7\n",
    "Compare and comment on the differences with the results above.\n",
    "\n",
    "As before the best test result is obtained using SVM (kernel = RBF, gamma = 0.01 and C = 10) in fact the test error is lower than in the other two cases. The number of samples is two times higher than before but the test result of all cases are still similar. For best results it is important to significantly increase the number of samples."
   ]
  },
  {
   "cell_type": "code",
   "execution_count": null,
   "metadata": {},
   "outputs": [],
   "source": []
  }
 ],
 "metadata": {
  "kernelspec": {
   "display_name": "Python 3",
   "language": "python",
   "name": "python3"
  },
  "language_info": {
   "codemirror_mode": {
    "name": "ipython",
    "version": 3
   },
   "file_extension": ".py",
   "mimetype": "text/x-python",
   "name": "python",
   "nbconvert_exporter": "python",
   "pygments_lexer": "ipython3",
   "version": "3.7.6"
  }
 },
 "nbformat": 4,
 "nbformat_minor": 4
}
